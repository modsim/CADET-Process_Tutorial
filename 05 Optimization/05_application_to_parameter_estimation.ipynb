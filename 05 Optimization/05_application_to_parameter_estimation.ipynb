{
 "cells": [
  {
   "cell_type": "markdown",
   "metadata": {
    "collapsed": false
   },
   "source": [
    "# Parameter estimation"
   ],
   "id": "d12609628dde7f76"
  },
  {
   "cell_type": "code",
   "execution_count": null,
   "metadata": {
    "collapsed": false
   },
   "outputs": [],
   "source": [
    "%matplotlib inline"
   ],
   "id": "98305150be037c15"
  },
  {
   "cell_type": "markdown",
   "metadata": {
    "collapsed": false
   },
   "source": [
    "# Fit Column Transport Parameters\n",
    "When characterizing a chromatographic system column, some parameters of the model can be directly measured (e.g. column length, diameter) or are provided by the resin manufacturer (e.g. particle radius).\n",
    "However, other transport parameters like axial dispersion and porosities need to be determined through experiments.\n",
    "\n",
    "One approach to determine these parameters is the inverse method.\n",
    "By adjusting the values of the parameters in the simulation model and comparing the resulting behavior to the experimental data, the optimal parameter values that match the observed behavior can be found.\n",
    "\n",
    "## Fit Bed Porosity and Axial Dispersion\n",
    "The bed porosity is an important parameter that describes the fraction of the column volume that is available for fluid flow.\n",
    "Axial dispersion is a transport parameter that describes the spreading of a solute or tracer as it moves through a chromatographic system column along the length of the column.\n",
    "It occurs due to differences in velocity between different layers of the fluid, leading to radial mixing of the fluid and the solutes.\n",
    "\n",
    "To determine the value of these parameters, an experiment is conducted using a non-pore-penetrating tracer.\n",
    "The tracer is injected into the column and its concentration at the column outlet is measured and compared to the concentration predicted by simulation results.\n",
    "\n",
    "Let us first load and plot the experimental data."
   ],
   "id": "ab58443306d20f88"
  },
  {
   "cell_type": "code",
   "execution_count": null,
   "metadata": {
    "collapsed": false
   },
   "outputs": [],
   "source": [
    "import numpy as np\n",
    "\n",
    "root = r\"C:\\Users\\ronal\\PycharmProjects\\CADET-Process_Tutorial\\05 Optimization\\\\\"\n",
    "data = np.loadtxt(root + 'experimental_data/non_pore_penetrating_tracer.csv', delimiter=',')\n",
    "\n",
    "time_experiment = data[:, 0]\n",
    "c_experiment = data[:, 1]\n",
    "\n",
    "from CADETProcess.reference import ReferenceIO\n",
    "\n",
    "tracer_peak = ReferenceIO(\n",
    "    'Tracer Peak', time_experiment, c_experiment\n",
    ")\n",
    "\n",
    "tracer_peak.plot()"
   ],
   "id": "58137c0f49277925"
  },
  {
   "cell_type": "markdown",
   "metadata": {
    "collapsed": false
   },
   "source": [
    "### Reference Model\n",
    "To accurately model a chromatographic system, it is crucial to establish a reference model that closely resembles the real system.\n",
    "The reference model allows for the determination of parameter influences and optimization of their values.\n",
    "Arbitrary values can be set for the unknown parameters such as `bed_porosity` and `axial_dispersion`, since they will be optimized.\n",
    "In order to model that the non-penetrating tracer does in fact not enter the pore, the `film_diffusion` needs to be set to $0$.\n",
    "Moreover, `particle_porosity` will be determined using a separate experiment."
   ],
   "id": "d289ab77e6b74b9f"
  },
  {
   "cell_type": "code",
   "execution_count": null,
   "metadata": {
    "collapsed": false
   },
   "outputs": [],
   "source": [
    "from CADETProcess.processModel import ComponentSystem\n",
    "\n",
    "component_system = ComponentSystem(['Non-penetrating Tracer'])"
   ],
   "id": "37de80e9ef71ce67"
  },
  {
   "cell_type": "code",
   "execution_count": null,
   "metadata": {
    "collapsed": false
   },
   "outputs": [],
   "source": [
    "from CADETProcess.processModel import Inlet, Outlet, LumpedRateModelWithPores\n",
    "\n",
    "feed = Inlet(component_system, name='feed')\n",
    "feed.c = [0.0005]\n",
    "\n",
    "eluent = Inlet(component_system, name='eluent')\n",
    "eluent.c = [0]\n",
    "\n",
    "column = LumpedRateModelWithPores(component_system, name='column')\n",
    "\n",
    "column.length = 0.1\n",
    "column.diameter = 0.0077\n",
    "column.particle_radius = 34e-6\n",
    "\n",
    "column.axial_dispersion = 1e-8\n",
    "column.bed_porosity = 0.3\n",
    "column.particle_porosity = 0.8\n",
    "column.film_diffusion = [0]\n",
    "\n",
    "outlet = Outlet(component_system, name='outlet')"
   ],
   "id": "d8251a63d9ac9b0a"
  },
  {
   "cell_type": "code",
   "execution_count": null,
   "metadata": {
    "collapsed": false
   },
   "outputs": [],
   "source": [
    "from CADETProcess.processModel import FlowSheet\n",
    "\n",
    "flow_sheet = FlowSheet(component_system)\n",
    "\n",
    "flow_sheet.add_unit(feed)\n",
    "flow_sheet.add_unit(eluent)\n",
    "flow_sheet.add_unit(column)\n",
    "flow_sheet.add_unit(outlet)\n",
    "\n",
    "flow_sheet.add_connection(feed, column)\n",
    "flow_sheet.add_connection(eluent, column)\n",
    "flow_sheet.add_connection(column, outlet)\n"
   ],
   "id": "57c64ddcf576bd21"
  },
  {
   "cell_type": "code",
   "execution_count": null,
   "metadata": {
    "collapsed": false
   },
   "outputs": [],
   "source": [
    "from CADETProcess.processModel import Process\n",
    "\n",
    "Q_ml_min = 0.5  # ml/min\n",
    "Q_m3_s = Q_ml_min / (60 * 1e6)\n",
    "V_tracer = 50e-9  # m3\n",
    "\n",
    "process = Process(flow_sheet, 'Tracer')\n",
    "process.cycle_time = 15 * 60\n",
    "\n",
    "process.add_event(\n",
    "    'feed_on',\n",
    "    'flow_sheet.feed.flow_rate',\n",
    "    Q_m3_s, 0\n",
    ")\n",
    "process.add_event(\n",
    "    'feed_off',\n",
    "    'flow_sheet.feed.flow_rate',\n",
    "    0,\n",
    "    V_tracer / Q_m3_s\n",
    ")\n",
    "\n",
    "process.add_event(\n",
    "    'feed_water_on',\n",
    "    'flow_sheet.eluent.flow_rate',\n",
    "    Q_m3_s,\n",
    "    V_tracer / Q_m3_s\n",
    ")\n",
    "\n",
    "process.add_event(\n",
    "    'eluent_off',\n",
    "    'flow_sheet.eluent.flow_rate',\n",
    "    0,\n",
    "    process.cycle_time\n",
    ")\n"
   ],
   "id": "7bde9aa26e08f366"
  },
  {
   "cell_type": "markdown",
   "metadata": {
    "collapsed": false
   },
   "source": [
    "### Simulator"
   ],
   "id": "6f158d7a311c9de1"
  },
  {
   "cell_type": "code",
   "execution_count": null,
   "metadata": {
    "collapsed": false
   },
   "outputs": [],
   "source": [
    "from CADETProcess.simulator import Cadet\n",
    "\n",
    "simulator = Cadet()\n",
    "\n",
    "simulation_results = simulator.simulate(process)\n",
    "_ = simulation_results.solution.outlet.inlet.plot()"
   ],
   "id": "bb477f5f28a45d05"
  },
  {
   "cell_type": "markdown",
   "metadata": {
    "collapsed": false
   },
   "source": [
    "### Comparator"
   ],
   "id": "a6cde92f28de218c"
  },
  {
   "cell_type": "code",
   "execution_count": null,
   "metadata": {
    "collapsed": false
   },
   "outputs": [],
   "source": [
    "from CADETProcess.comparison import Comparator\n",
    "\n",
    "comparator = Comparator()\n",
    "comparator.add_reference(tracer_peak)\n",
    "comparator.add_difference_metric(\n",
    "    'NRMSE', tracer_peak, 'outlet.outlet',\n",
    ")\n",
    "\n",
    "comparator.plot_comparison(simulation_results)"
   ],
   "id": "8be537e837f23791"
  },
  {
   "cell_type": "markdown",
   "metadata": {
    "collapsed": false
   },
   "source": [
    "### Optimization Problem"
   ],
   "id": "cb59932a58d0feb"
  },
  {
   "cell_type": "code",
   "execution_count": null,
   "metadata": {
    "collapsed": false
   },
   "outputs": [],
   "source": [
    "from CADETProcess.optimization import OptimizationProblem\n",
    "\n",
    "optimization_problem = OptimizationProblem('bed_porosity_axial_dispersion')\n",
    "\n",
    "optimization_problem.add_evaluation_object(process)\n",
    "\n",
    "optimization_problem.add_variable(\n",
    "    name='bed_porosity', parameter_path='flow_sheet.column.bed_porosity',\n",
    "    lb=0.1, ub=0.6,\n",
    "    transform='auto'\n",
    ")\n",
    "\n",
    "optimization_problem.add_variable(\n",
    "    name='axial_dispersion', parameter_path='flow_sheet.column.axial_dispersion',\n",
    "    lb=1e-10, ub=0.1,\n",
    "    transform='auto'\n",
    ")\n",
    "\n",
    "optimization_problem.add_evaluator(simulator)\n",
    "\n",
    "optimization_problem.add_objective(\n",
    "    comparator,\n",
    "    n_objectives=comparator.n_metrics,\n",
    "    requires=[simulator]\n",
    ")\n",
    "\n",
    "\n",
    "def callback(simulation_results, individual, evaluation_object, callbacks_dir='./'):\n",
    "    comparator.plot_comparison(\n",
    "        simulation_results,\n",
    "        file_name=f'{callbacks_dir}/{individual.id}_{evaluation_object}_comparison.png',\n",
    "        show=False\n",
    "    )\n",
    "\n",
    "\n",
    "optimization_problem.add_callback(callback, requires=[simulator])"
   ],
   "id": "8e84ec6d81e96f41"
  },
  {
   "cell_type": "markdown",
   "metadata": {
    "collapsed": false
   },
   "source": [
    "### Optimizer\n",
    "Initialize an optimizer. For this example, use the genetic algorithm (GA) NSGA3. To ensure this code cell completes quickly for the tutorial, manually reduce the population size for each GA generation to 10 by changing `pop_size` to 10 and the number of generations `n_max_gen` to 5. \n",
    "\n",
    "Depending on the capabilities of the device you are running this on, you can change the n_cores to something higher, to make use of the built-in parallelization support."
   ],
   "id": "1af381f7e87ca80c"
  },
  {
   "cell_type": "code",
   "execution_count": null,
   "metadata": {
    "collapsed": false
   },
   "outputs": [],
   "source": [
    "from CADETProcess.optimization import U_NSGA3\n",
    "\n",
    "optimizer = U_NSGA3()\n",
    "optimizer.pop_size = 10\n",
    "optimizer.n_max_gen = 5\n",
    "\n",
    "optimizer.n_cores = 4\n",
    "\n",
    "optimization_results = optimizer.optimize(optimization_problem)\n"
   ],
   "id": "391b811afb459be8"
  },
  {
   "cell_type": "markdown",
   "metadata": {
    "collapsed": false
   },
   "source": [
    "We can also pick up the optimization from a stored checkpoint at a later point in time."
   ],
   "id": "84828032e8cf56e2"
  },
  {
   "cell_type": "code",
   "execution_count": null,
   "metadata": {
    "collapsed": false
   },
   "outputs": [],
   "source": [
    "# optimizer.n_max_gen = 7\n",
    "# optimization_results = optimizer.optimize(\n",
    "#     optimization_problem,\n",
    "#     use_checkpoint=True\n",
    "# )\n",
    "# ToDo: This fails with KeyError during run_post_generation_processing. How do you want the bug report?"
   ],
   "id": "1aeace77c46edd9d"
  },
  {
   "cell_type": "markdown",
   "metadata": {
    "collapsed": false
   },
   "source": [],
   "id": "b5d8e7f1f3237d13"
  },
  {
   "cell_type": "markdown",
   "metadata": {
    "collapsed": false
   },
   "source": [
    "Let's plot the convergence of the Optimizer:"
   ],
   "id": "25e5dc69a867ded7"
  },
  {
   "cell_type": "code",
   "execution_count": null,
   "metadata": {
    "collapsed": false
   },
   "outputs": [],
   "source": [
    "optimization_results.plot_convergence()"
   ],
   "id": "361f0f09729b16b0"
  },
  {
   "cell_type": "markdown",
   "metadata": {
    "collapsed": false
   },
   "source": [
    "We can inspect the best solution found by the optimization."
   ],
   "id": "5ceaee880ecde52e"
  },
  {
   "cell_type": "code",
   "execution_count": null,
   "metadata": {
    "collapsed": false
   },
   "outputs": [],
   "source": [
    "best_solution = optimization_results.x[0]\n",
    "print(best_solution)"
   ],
   "id": "39e4b697e0862f1e"
  },
  {
   "cell_type": "code",
   "execution_count": null,
   "metadata": {
    "collapsed": false
   },
   "outputs": [],
   "source": [
    "optimization_problem.evaluate_objectives(best_solution)\n",
    "# ToDo: What is the best way to plot the simulation results with the optimization_results.x?"
   ],
   "id": "fc07c86ad8f92b9f"
  },
  {
   "cell_type": "code",
   "execution_count": null,
   "metadata": {
    "collapsed": false
   },
   "outputs": [],
   "source": [],
   "id": "1cdc1fde73dec218"
  }
 ],
 "metadata": {
  "kernelspec": {
   "display_name": "Python 3 (ipykernel)",
   "language": "python",
   "name": "python3"
  },
  "language_info": {
   "codemirror_mode": {
    "name": "ipython",
    "version": 3
   },
   "file_extension": ".py",
   "mimetype": "text/x-python",
   "name": "python",
   "nbconvert_exporter": "python",
   "pygments_lexer": "ipython3",
   "version": "3.9.18"
  }
 },
 "nbformat": 4,
 "nbformat_minor": 5
}
