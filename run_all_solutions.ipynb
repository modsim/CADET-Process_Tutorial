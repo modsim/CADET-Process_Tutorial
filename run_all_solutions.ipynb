{
 "cells": [
  {
   "cell_type": "code",
   "execution_count": null,
   "metadata": {},
   "outputs": [],
   "source": [
    "import os\n",
    "import papermill as pm\n",
    "from joblib import Parallel, delayed\n",
    "\n",
    "\n",
    "def iter_notebooks(path_root):\n",
    "    for root, dirs, files in os.walk(path_root):\n",
    "        for file in files:\n",
    "            if not file.endswith(\".ipynb\"):\n",
    "                continue\n",
    "            if not \"0\" in root:\n",
    "                continue\n",
    "            if \"ipynb_checkpoints\" in root:\n",
    "                continue\n",
    "\n",
    "            yield os.path.join(root, file)\n",
    "\n",
    "\n",
    "def evaluate_nb(nb_path):\n",
    "    try:\n",
    "        pm.execute_notebook(\n",
    "            input_path=nb_path,\n",
    "            output_path=nb_path,\n",
    "        )\n",
    "    except Exception as e:\n",
    "        print(nb_path, e)\n",
    "        return nb_path, e\n",
    "    return nb_path, None\n",
    "\n",
    "\n",
    "root_dir = \".\"\n",
    "for nb_path in iter_notebooks(root_dir):\n",
    "    evaluate_nb(nb_path)\n"
   ],
   "id": "b9a3893f9cab608c"
  },
  {
   "cell_type": "code",
   "execution_count": null,
   "outputs": [],
   "source": [
    "for file, error in results:\n",
    "    if error is None:\n",
    "        continue\n",
    "    print(file)\n",
    "    # print(error)"
   ],
   "metadata": {
    "collapsed": false
   },
   "id": "9edab7822e2af98c"
  }
 ],
 "metadata": {
  "kernelspec": {
   "display_name": "Python 3 (ipykernel)",
   "language": "python",
   "name": "python3"
  },
  "language_info": {
   "codemirror_mode": {
    "name": "ipython",
    "version": 3
   },
   "file_extension": ".py",
   "mimetype": "text/x-python",
   "name": "python",
   "nbconvert_exporter": "python",
   "pygments_lexer": "ipython3",
   "version": "3.9.18"
  }
 },
 "nbformat": 4,
 "nbformat_minor": 5
}
