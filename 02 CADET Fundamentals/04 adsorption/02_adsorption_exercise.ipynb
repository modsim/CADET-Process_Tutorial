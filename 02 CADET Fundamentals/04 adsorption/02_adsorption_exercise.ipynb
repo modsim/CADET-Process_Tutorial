{
 "cells": [
  {
   "cell_type": "markdown",
   "id": "0a50e722-27b2-476c-a63c-1532a13af38a",
   "metadata": {},
   "source": [
    "# Adsorption Models - Exercise"
   ]
  },
  {
   "cell_type": "code",
   "execution_count": null,
   "id": "08378f1f-f1ae-4b86-ac25-c53dabbf77c9",
   "metadata": {},
   "outputs": [],
   "source": []
  },
  {
   "cell_type": "markdown",
   "id": "2d764721-ebd5-478b-92be-7e4c5f72ea0b",
   "metadata": {},
   "source": [
    "\n",
    "## Exercise 1: Breakthrough curve in a Column\n",
    "\n",
    "In this example, consider a column with a `Linear` isotherm with $k_{eq, 1} = 2$, and $k_{eq, 2} = 1$.\n",
    "We want to record the breakthrough curve and for this purpose, a concentration step with $c_{feed} = [1.0, 1.0]~g \\cdot L^{-1} $is introduced at $t = 0$. \n",
    "\n",
    "***Task:*** Implement the configuration for the adsorption isotherm and pass it to the `create_column_template()` function. You also need to provide the number of can also provide\n",
    "\n",
    "Try experimenting with:\n",
    "- The binding strength.\n",
    "- The number of components.\n",
    "- Modify how many components bind.\n",
    "- Compare kinetic binding with rapid equilibrium."
   ]
  },
  {
   "cell_type": "code",
   "execution_count": null,
   "id": "5f9292c3-4c8c-48ff-9020-4146f94a37ae",
   "metadata": {},
   "outputs": [],
   "source": []
  },
  {
   "cell_type": "markdown",
   "id": "0ed7e2b7-8469-4a70-ac2c-8c5f21f1d8ed",
   "metadata": {},
   "source": [
    "## Exercise 2: Langmuir Model in Column\n",
    "\n",
    "Let us consider the same experiment as in the first example, but this time with `Langmuir` adsorption model.\n",
    "\n",
    "with $k_{eq, i} = [2, 1]$, and $q_{max, i} = [10, 10]$.\n",
    "We again introduce a step with $c_{feed} = [1.0, 1.0]~g \\cdot L^{-1} $is introduced at $t = 0$ and the breakthrough curve is recorded.\n",
    "\n",
    "Try experimenting with:\n",
    "- The binding strenth.\n",
    "- The number of components.\n",
    "- Modify how many components bind.\n",
    "- Compare kinetic binding with rapid equilibrium."
   ]
  },
  {
   "cell_type": "code",
   "execution_count": null,
   "id": "647a5440-9d2e-4429-99b7-600e5199d404",
   "metadata": {},
   "outputs": [],
   "source": []
  },
  {
   "cell_type": "markdown",
   "id": "63fdefa0-ece1-4135-8c10-023f88aa6051",
   "metadata": {},
   "source": [
    "## Bonus Exercise\n",
    "\n",
    "There are many other models implemented in `CADET`. \n",
    "Some binding models can account for multiple binding states, others allow for mobile phase modulators.\n",
    "Moreover, binding models can use external functions for modifying the values of the parameters during the simulation.\n",
    "This could be used to model other effects like temperature that have an influence on the binding strength.\n",
    "\n",
    "Try implementing some of the more advanced isotherms and features."
   ]
  },
  {
   "cell_type": "code",
   "execution_count": null,
   "id": "be074a97-e3d8-4665-ad4f-ca689c567cec",
   "metadata": {},
   "outputs": [],
   "source": []
  }
 ],
 "metadata": {
  "kernelspec": {
   "display_name": "Python 3 (ipykernel)",
   "language": "python",
   "name": "python3"
  },
  "language_info": {
   "codemirror_mode": {
    "name": "ipython",
    "version": 3
   },
   "file_extension": ".py",
   "mimetype": "text/x-python",
   "name": "python",
   "nbconvert_exporter": "python",
   "pygments_lexer": "ipython3",
   "version": "3.9.13"
  }
 },
 "nbformat": 4,
 "nbformat_minor": 5
}
