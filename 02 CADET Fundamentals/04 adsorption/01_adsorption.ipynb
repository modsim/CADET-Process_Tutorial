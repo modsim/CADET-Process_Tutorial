{
 "cells": [
  {
   "cell_type": "markdown",
   "id": "8ba04b46-a83f-4f90-8cc1-cfa48be772da",
   "metadata": {},
   "source": [
    "# Adsorption models\n",
    "\n",
    "At the core of chromatographic processes are interactions between the atoms, ions or molecules of a gas, liquid or dissolved solid with a stationary phase.\n",
    "These interactions can often be described in terms of an isotherm which relates the amount of adsorbate on the adsorbent as a function of its pressure (in gas phase) or concentration (in solution) at constant temperature.\n",
    "\n",
    "In CADET, many different models for adsorption are implemented.\n",
    "All of the models can be modelled kinetically or in rapid equilibrium. \n",
    "Moreover, many of them include features such as competitive effects, multi state binding, or a mobile phase modifier.\n",
    "\n",
    "![Picture1.png](resources/Picture1.png)\n",
    " \n",
    "**In this lesson,** we will:\n",
    "- Learn about different adsorption models.\n",
    "- Associate adsorption models with different unit operations."
   ]
  },
  {
   "cell_type": "markdown",
   "id": "e47736fe-3e95-4f3c-928b-9c5443453103",
   "metadata": {},
   "source": [
    "## Example 1: Linear model\n",
    "\n",
    "The simplest model for adsorption is the [linear model](https://cadet.github.io/master/modelling/binding/linear.html).\n",
    "Analogously to Henry's law, it describes a linear correlation of the amount of the surface adsorbate to the partial pressure of the adsorptive gas or the concentration of the solute.\n",
    "\n",
    "\n",
    "Let us consider a shaking flask experiment a `CSTR` (without ingoing or outgoing streams).\n",
    "In it, we add some porous material s.t.\n",
    "- the overal porosity is $0.5$.\n",
    "- the volume is $1~L$\n",
    "\n",
    "Then, we add a solution of a component with $1~mol \\cdot L^{-1}$. "
   ]
  },
  {
   "cell_type": "code",
   "execution_count": null,
   "id": "6a222407-6fba-4ea9-9958-4bfbd7a7e8cd",
   "metadata": {},
   "outputs": [],
   "source": []
  },
  {
   "cell_type": "code",
   "execution_count": null,
   "id": "51e11d34-69a5-45be-961c-ffc49c2ddb2d",
   "metadata": {},
   "outputs": [],
   "source": []
  },
  {
   "cell_type": "code",
   "execution_count": null,
   "id": "3b768cad-cd2d-4d1e-b4a7-31ba2a059965",
   "metadata": {},
   "outputs": [],
   "source": []
  },
  {
   "cell_type": "code",
   "execution_count": null,
   "id": "782089fe-1ef6-46e5-9246-179ab275af22",
   "metadata": {},
   "outputs": [],
   "source": []
  },
  {
   "cell_type": "code",
   "execution_count": null,
   "id": "85b9d55d-2139-4af0-b9f3-c79331539c9d",
   "metadata": {},
   "outputs": [],
   "source": []
  },
  {
   "cell_type": "code",
   "execution_count": null,
   "id": "0ea68497-638b-4bc2-8077-5dd0401523db",
   "metadata": {},
   "outputs": [],
   "source": []
  },
  {
   "cell_type": "markdown",
   "id": "3a408b53-e4ee-463f-9747-0f2cc4d38794",
   "metadata": {},
   "source": []
  },
  {
   "cell_type": "code",
   "execution_count": null,
   "id": "d01cde65-fc07-4639-91c4-823bc4ccee78",
   "metadata": {},
   "outputs": [],
   "source": []
  },
  {
   "cell_type": "markdown",
   "id": "387f56e1-eb7b-4603-a481-39e59ed96daa",
   "metadata": {},
   "source": [
    "Now, the solution looks much smoother."
   ]
  },
  {
   "cell_type": "code",
   "execution_count": null,
   "id": "91f09ab4-0f30-4b77-9735-9fe81f11a1dc",
   "metadata": {},
   "outputs": [],
   "source": []
  },
  {
   "cell_type": "markdown",
   "id": "2d611437-5bc8-4658-91c7-59a9e3e0e23f",
   "metadata": {
    "tags": []
   },
   "source": [
    "## Example 2: Linear adsorption model with linear concentration gradient\n",
    "\n",
    "To plot the solid phase concentration as a function of the bulk concentration, we can introduce a linear concentration gradient to the `CSTR` that has an initial concentration of $0~mM$.\n",
    "For this purpose, we will make use of the `flowrate_filter` function of the `CSTR` (see [here](https://cadet.github.io/master/interface/unit_operations/cstr.html)).\n",
    "This way, we can add mass (or particles) to the tank without increasing it's volume."
   ]
  },
  {
   "cell_type": "code",
   "execution_count": null,
   "id": "7ad22d8e-75fd-437b-99fe-db28925c1eae",
   "metadata": {},
   "outputs": [],
   "source": []
  },
  {
   "cell_type": "code",
   "execution_count": null,
   "id": "72323a58-c2b4-416e-9a70-9fb89d395866",
   "metadata": {},
   "outputs": [],
   "source": []
  },
  {
   "cell_type": "code",
   "execution_count": null,
   "id": "690fd85c-0909-41f9-bbaa-8a454635203d",
   "metadata": {},
   "outputs": [],
   "source": []
  },
  {
   "cell_type": "code",
   "execution_count": null,
   "id": "e287b992-27d1-4831-9b9c-07906327fe0f",
   "metadata": {},
   "outputs": [],
   "source": []
  },
  {
   "cell_type": "code",
   "execution_count": null,
   "id": "ff769165-939f-4ec6-b692-5fb055ad8d53",
   "metadata": {},
   "outputs": [],
   "source": []
  },
  {
   "cell_type": "code",
   "execution_count": null,
   "id": "41c5d081-b37f-4141-b726-8e73f44ede00",
   "metadata": {},
   "outputs": [],
   "source": []
  },
  {
   "cell_type": "code",
   "execution_count": null,
   "id": "125891dc-5655-43f0-9980-440c1c28e116",
   "metadata": {},
   "outputs": [],
   "source": []
  },
  {
   "cell_type": "markdown",
   "id": "50769442-ff7e-4463-962d-088ab7bdce3c",
   "metadata": {},
   "source": [
    "## Example 3: Multi component Langmuir model\n",
    "\n",
    "Usually, the linear isotherm can only be assumed for very low solute concentrations.\n",
    "At higher, higher concentrations the limited number of available binding sites on the surface of the adsorbent also needs to be considered which the [Langmuir equation](https://cadet.github.io/master/modelling/binding/multi_component_langmuir.html) takes into account.\n",
    "\n",
    "$$q = q_{sat} \\cdot \\frac{b \\cdot c}{1 + b \\cdot c} = \\frac{a \\cdot c}{1 + b \\cdot c}$$\n",
    "\n",
    "***with:*** \n",
    "> $q_{Sat}$: saturation loading  \n",
    "> $b$ = equilibrium factor\n",
    "\n",
    "***Assumptions:***\n",
    "- All of the adsorption sites are equivalent, and each site can only accommodate one molecule\n",
    "- The surface is energetically homogeneous\n",
    "- Adsorbed molecules do not interact\n",
    "- There are no phase transitions\n",
    "- At the maximum adsorption, only a monolayer is formed\n",
    "\n",
    "For this example, we will introduce a concentration step to the `CSTR`. \n",
    "We consider two components, both with an inital concentration of $0~mM$, but with different binding strengths."
   ]
  },
  {
   "cell_type": "code",
   "execution_count": null,
   "id": "4ea9db18-f493-4b75-8344-39923f9fe0d7",
   "metadata": {
    "tags": []
   },
   "outputs": [],
   "source": []
  },
  {
   "cell_type": "code",
   "execution_count": null,
   "id": "de5ed519-d20a-4480-a14d-430c0c5146ed",
   "metadata": {},
   "outputs": [],
   "source": []
  },
  {
   "cell_type": "code",
   "execution_count": null,
   "id": "d9cb47ab-a964-4d8d-b0b9-37b3e23ffbf6",
   "metadata": {},
   "outputs": [],
   "source": []
  },
  {
   "cell_type": "code",
   "execution_count": null,
   "id": "036a94df-d7c6-475a-8e62-93ce20893186",
   "metadata": {},
   "outputs": [],
   "source": []
  },
  {
   "cell_type": "code",
   "execution_count": null,
   "id": "36fa3f37-218d-4ef1-92ea-b54615742273",
   "metadata": {},
   "outputs": [],
   "source": []
  },
  {
   "cell_type": "code",
   "execution_count": null,
   "id": "cec08b88-2a6c-43fc-bb99-0fb4fd69dc8b",
   "metadata": {},
   "outputs": [],
   "source": []
  },
  {
   "cell_type": "code",
   "execution_count": null,
   "id": "7e82f0ad-5476-4fe1-868c-06379eb7c786",
   "metadata": {},
   "outputs": [],
   "source": []
  }
 ],
 "metadata": {
  "kernelspec": {
   "display_name": "Python 3 (ipykernel)",
   "language": "python",
   "name": "python3"
  },
  "language_info": {
   "codemirror_mode": {
    "name": "ipython",
    "version": 3
   },
   "file_extension": ".py",
   "mimetype": "text/x-python",
   "name": "python",
   "nbconvert_exporter": "python",
   "pygments_lexer": "ipython3",
   "version": "3.9.13"
  }
 },
 "nbformat": 4,
 "nbformat_minor": 5
}
