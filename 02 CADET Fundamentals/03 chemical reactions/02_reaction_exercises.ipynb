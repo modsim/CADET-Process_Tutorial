{
 "cells": [
  {
   "cell_type": "markdown",
   "id": "ecb234e2-e52f-4013-8f62-fbc4191f6262",
   "metadata": {},
   "source": [
    "# Lesson 3: Exercises"
   ]
  },
  {
   "cell_type": "markdown",
   "id": "819ed72b-79ef-485a-a17a-4a338a22d24a",
   "metadata": {},
   "source": [
    "## Exercise 1: Equilibrium reaction with intermediate state\n",
    "\n",
    "We will consider again consider a batch reaction in a `CSTR` but this time, we will also account for an intermediate state:\n",
    "\n",
    "$\\require{mhchem}$\n",
    "$$\\ce{A <=>[k_{AB}][k_{BA}] B <=>[k_{BC}][k_{CB}] C}$$\n",
    "\n",
    "***Task:*** Implement the reaction and plot the results. Assume the following values for the rate constants:\n",
    "- $k_{AB} = 0.080~s^{-1}$\n",
    "- $k_{BA} = 0.0~s^{-1}$\n",
    "- $k_{BC} = 0.060~s^{-1}$\n",
    "- $k_{CB} = 0.0~s^{-1}$"
   ]
  },
  {
   "cell_type": "code",
   "execution_count": null,
   "id": "501a2670-5a04-4d8c-aa78-c3c55cd1c8bf",
   "metadata": {},
   "outputs": [],
   "source": []
  },
  {
   "cell_type": "code",
   "execution_count": null,
   "id": "d370463d-27d4-4a5e-a5d8-efa7784d310a",
   "metadata": {},
   "outputs": [],
   "source": []
  },
  {
   "cell_type": "code",
   "execution_count": null,
   "id": "6a85780d-b348-4270-adbc-2f481455b61a",
   "metadata": {},
   "outputs": [],
   "source": []
  },
  {
   "cell_type": "code",
   "execution_count": null,
   "id": "5da4fd84-e853-418c-a569-a6aa7f076e66",
   "metadata": {},
   "outputs": [],
   "source": []
  },
  {
   "cell_type": "code",
   "execution_count": null,
   "id": "e1509b07-72f8-47cb-ba54-f44e4f5a20bd",
   "metadata": {},
   "outputs": [],
   "source": []
  },
  {
   "cell_type": "markdown",
   "id": "0db39a12-d350-4822-94d0-431117d856d7",
   "metadata": {},
   "source": [
    "## Exercise 2: Equilibrium reaction with intermediate state in tubular reactor\n",
    "***Task:*** Implement the reaction in a tubular reactor and plot the results at the outlet, as well as over the length of the column for the last timestep.\n",
    "\n",
    "Consider again the reaction parameters from Exercise 1.\n",
    "For the `TubularReactor` use the following parameters:\n",
    "- length: 1 m\n",
    "- diameter: 10 cm\n",
    "- flow rate: 0.1 m³/s\n",
    "\n",
    "\n",
    "\n",
    "\n",
    "***Hint:*** To plot the bulk solution, make sure that you set the `write_solution_bulk` flag in the `TubularReactor`."
   ]
  },
  {
   "cell_type": "code",
   "execution_count": null,
   "id": "a0229e97-222f-4a07-b569-2b7308f6d7ea",
   "metadata": {},
   "outputs": [],
   "source": []
  },
  {
   "cell_type": "code",
   "execution_count": null,
   "id": "213e34e1-40f4-4ba7-a966-90834341f640",
   "metadata": {},
   "outputs": [],
   "source": []
  },
  {
   "cell_type": "code",
   "execution_count": null,
   "id": "51ad1ebd-03d4-458b-a513-600c144d1d60",
   "metadata": {
    "tags": []
   },
   "outputs": [],
   "source": []
  },
  {
   "cell_type": "code",
   "execution_count": null,
   "id": "0c4cbcdc-cf13-4a09-a2eb-bad59b9eb3dc",
   "metadata": {},
   "outputs": [],
   "source": []
  },
  {
   "cell_type": "code",
   "execution_count": null,
   "id": "9b88caa7-d6d2-40e7-95ff-1d57862725fe",
   "metadata": {},
   "outputs": [],
   "source": []
  },
  {
   "cell_type": "markdown",
   "id": "f8865188-adad-4d13-805a-5397e3987818",
   "metadata": {
    "tags": []
   },
   "source": [
    "## Bonus Exercise\n",
    "\n",
    "Try implementing other reaction systems such as:\n",
    "\n",
    "$\\require{mhchem}$\n",
    "$$\\ce{A + B ->[k_{1}] C}$$\n",
    "$$\\ce{2 A + B ->[k_{1}] C}$$\n",
    "$$\\ce{A + B <=>[k_{1}][k_{-1}] C ->[k_{2}] D}$$\n",
    "$$\\ce{A + B ->[k_{1}] C} \\quad \\text{and as a parallel reaction} \\quad \\ce{A + C ->[k_{2}] D}$$"
   ]
  },
  {
   "cell_type": "code",
   "execution_count": null,
   "id": "b8899370-e01a-4d21-8d5e-ef0927578177",
   "metadata": {},
   "outputs": [],
   "source": []
  }
 ],
 "metadata": {
  "kernelspec": {
   "display_name": "Python 3 (ipykernel)",
   "language": "python",
   "name": "python3"
  },
  "language_info": {
   "codemirror_mode": {
    "name": "ipython",
    "version": 3
   },
   "file_extension": ".py",
   "mimetype": "text/x-python",
   "name": "python",
   "nbconvert_exporter": "python",
   "pygments_lexer": "ipython3",
   "version": "3.9.13"
  }
 },
 "nbformat": 4,
 "nbformat_minor": 5
}
