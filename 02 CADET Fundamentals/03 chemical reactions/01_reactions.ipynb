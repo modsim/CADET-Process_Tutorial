{
 "cells": [
  {
   "cell_type": "markdown",
   "id": "e97ddf50-f63b-40da-a725-ef41dd7c3a4b",
   "metadata": {},
   "source": [
    "# Chemical Reactions\n",
    "\n",
    "$$\\require{mhchem}$$\n",
    "\n",
    "Since version 4, it is possible to model chemical reactions with CADET using mass action law type reactions (see [Reaction models](https://cadet.github.io/master/modelling/reactions.html#reaction-models)).\n",
    "The mass action law states that the speed of a reaction is proportional to the product of the concentrations of their reactants.\n",
    "\n",
    "In CADET-Process, a reaction module was implemented to facilitate the setup of these reactions.\n",
    "There are two different classes: the `MassActionLaw` which is used for bulk phase reactions, as well as `MassActionLawParticle` which is specifically designed to model reactions in particle pore phase.\n",
    "\n",
    "In this tutorial, we're going to learn how to setup:\n",
    "- Forward Reactions\n",
    "- Equilibrium Reactions"
   ]
  },
  {
   "cell_type": "markdown",
   "id": "b152c82d-77b6-496b-a71a-52ec9e3bb7ed",
   "metadata": {
    "tags": []
   },
   "source": [
    "## Forward Reactions\n",
    "As a simple example, consider the following system:\n",
    "\n",
    "$$\n",
    "\\ce{1 A ->[k_{AB}] 1 B}\n",
    "$$"
   ]
  },
  {
   "cell_type": "markdown",
   "id": "a2359a57-5911-45a0-86e8-f5cb8fa1ca3a",
   "metadata": {},
   "source": [
    "First, initiate a `ComponentSystem` with components `A` and `B`."
   ]
  },
  {
   "cell_type": "code",
   "execution_count": null,
   "id": "e5664cd1-ae5c-4839-b5ed-9cf922f34771",
   "metadata": {},
   "outputs": [],
   "source": []
  },
  {
   "cell_type": "markdown",
   "id": "206e71fe-c727-41a6-a9b1-01898e3d1c8c",
   "metadata": {},
   "source": [
    "Then, configure the `MassActionLaw` reaction model.\n",
    "To instantiate it, pass the `ComponentSystem`.\n",
    "Then, add the reaction using the `add_reaction` method.\n",
    "The following arguments are expected:\n",
    "- indices: The indices of the components that take part in the reaction (useful for bigger systems)\n",
    "- stoichiometric coefficients in the order of the indices\n",
    "- forward reaction rate\n",
    "- backward reaction rate"
   ]
  },
  {
   "cell_type": "code",
   "execution_count": null,
   "id": "453ad58e-34a5-408f-8121-b4f1db6ef97c",
   "metadata": {},
   "outputs": [],
   "source": []
  },
  {
   "cell_type": "markdown",
   "id": "e9f47340-fb36-4dc3-ad66-7b8a0a7114dd",
   "metadata": {},
   "source": [
    "To demonstrate this reaction, a `Cstr` is instantiated and the reaction is added to the tank.\n",
    "Moreover, the initial conditions are set.\n",
    "In principle, the `Cstr` supports reactions in bulk and particle pore phase.\n",
    "Since the porosity is $1$ by default, only the bulk phase is considered.\n"
   ]
  },
  {
   "cell_type": "code",
   "execution_count": null,
   "id": "30c5d112-aca4-4c7c-a5a0-878e599293c3",
   "metadata": {},
   "outputs": [],
   "source": []
  },
  {
   "cell_type": "markdown",
   "id": "3c86f10d-afec-430d-a475-3a614610170b",
   "metadata": {},
   "source": [
    "Now, the reactor is added to a `FlowSheet` and a `Process` is set up.\n",
    "Here, the `FlowSheet` only consists of a single `Cstr`, and there are no `Events` in the process."
   ]
  },
  {
   "cell_type": "code",
   "execution_count": null,
   "id": "113ff9aa-3543-436c-8cf5-362f7778edd2",
   "metadata": {},
   "outputs": [],
   "source": []
  },
  {
   "cell_type": "markdown",
   "id": "f0489664-6bd8-4297-becc-8b9c4d60a11b",
   "metadata": {},
   "source": [
    "After simulation, the results can be plotted:"
   ]
  },
  {
   "cell_type": "code",
   "execution_count": null,
   "id": "020473ef-958f-49a9-92ff-c7e2b98aa2ff",
   "metadata": {},
   "outputs": [],
   "source": []
  },
  {
   "cell_type": "markdown",
   "id": "d0b8cb42-2467-4c3a-8043-253ffe511218",
   "metadata": {
    "tags": []
   },
   "source": [
    "## Equilibrium Reactions\n",
    "It is also possible to consider equilibrium reactions where the product can react back to the educts.\n",
    "\n",
    "$$\n",
    "\\ce{ 2 A <=>[k_{AB}][k_{BA}] B}\n",
    "$$"
   ]
  },
  {
   "cell_type": "markdown",
   "id": "914bad05-71ef-4c2b-b2d4-8f05f1eb5d28",
   "metadata": {},
   "source": [
    "Here, the same units, flow sheet, and process are reused which were defined above."
   ]
  },
  {
   "cell_type": "code",
   "execution_count": null,
   "id": "68ab29f3-e7a4-4a3c-89c1-dbf3abd5fbd2",
   "metadata": {},
   "outputs": [],
   "source": []
  },
  {
   "cell_type": "markdown",
   "id": "49c6952c-bbc3-46a4-8a7a-c2b1bc783d6a",
   "metadata": {},
   "source": [
    "After simulation, the results can be plotted:"
   ]
  },
  {
   "cell_type": "code",
   "execution_count": null,
   "id": "8c7121fa-8ce9-4f2b-90ea-fa6b876d2e69",
   "metadata": {},
   "outputs": [],
   "source": []
  }
 ],
 "metadata": {
  "kernelspec": {
   "display_name": "Python 3 (ipykernel)",
   "language": "python",
   "name": "python3"
  },
  "language_info": {
   "codemirror_mode": {
    "name": "ipython",
    "version": 3
   },
   "file_extension": ".py",
   "mimetype": "text/x-python",
   "name": "python",
   "nbconvert_exporter": "python",
   "pygments_lexer": "ipython3",
   "version": "3.9.13"
  }
 },
 "nbformat": 4,
 "nbformat_minor": 5
}
