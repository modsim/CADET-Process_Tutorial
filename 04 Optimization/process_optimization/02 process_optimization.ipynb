{
 "cells": [
  {
   "cell_type": "markdown",
   "id": "0f9e4e48",
   "metadata": {},
   "source": [
    "# Process Optimization\n",
    "One of the main features of **CADET-Process** is process optimization. \n",
    "\n",
    "an `OptimizationProblem` class is introduced that decouples the problem formulation from the `Optimizer` used for its solution (see overview), allowing for a simple comparison of different optimization approaches.\n",
    "The `OptimizationVariables` $x$ may refer to any attribute of the `ProcessModel`.\n",
    "This includes model parameters, as well as `FlowSheet`-events.\n",
    "As for the latter, not only the time when they are executed can be optimized, but also the value to which the attribute is changed when the `Event` is performed, allowing for structural optimization.\n",
    "Bound constraints and linear constraints can limit the parameter space and the user is free to define arbitrary function $f(x)$ as the objective, and add arbitrary nonlinear constraint functions $g(x)$ to the `OptimizationProblem`.\n",
    "\n",
    "The `OptimizerAdapter` provides a unified interface for using external optimization libraries.\n",
    "It is responsible for converting the `OptimizationProblem` to the specific API of the external `Optimizer`.\n",
    "Currently, adapters to [pymoo](https://pymoo.org/) and [SciPy's optimization suite](https://docs.scipy.org/doc/scipy/tutorial/optimize.html) are implemented, all of which are published under open source licenses that allow for academic as well as commercial use.\n",
    "\n",
    "## Optimization Problem\n",
    "After import, the `OptimizationProblem` is initialized with a name."
   ]
  },
  {
   "cell_type": "code",
   "execution_count": 1,
   "id": "f20e3c40",
   "metadata": {},
   "outputs": [],
   "source": [
    "from CADETProcess.optimization import OptimizationProblem\n",
    "\n",
    "optimization_problem = OptimizationProblem(name='batch elution')"
   ]
  },
  {
   "cell_type": "markdown",
   "id": "c63db352",
   "metadata": {},
   "source": [
    "Then, one or more `EvaluationObjects` can be added to the problem.\n",
    "These are objects which contain the parameters which should be optimized (e.g. a `Process` or a `Fractionator`).\n",
    "\n",
    "For this demonstration, the process model from a previous tutorial is used."
   ]
  },
  {
   "cell_type": "code",
   "execution_count": 2,
   "id": "d760bf5c",
   "metadata": {
    "tags": [
     "remove-cell"
    ]
   },
   "outputs": [],
   "source": [
    "import sys\n",
    "sys.path.insert(0, '../../_templates')\n",
    "from batch_elution import process"
   ]
  },
  {
   "cell_type": "code",
   "execution_count": 3,
   "id": "32ef98e9",
   "metadata": {},
   "outputs": [],
   "source": [
    "optimization_problem.add_evaluation_object(process)"
   ]
  },
  {
   "cell_type": "markdown",
   "id": "1b4d519e",
   "metadata": {},
   "source": [
    "In this example, we want to find the optimal cycle time and feed duration.\n",
    "To specify these variable, the `add_variable` method is used.\n",
    "First, it takes the path to the variable in the evaluation object.\n",
    "Lower and upper bounds can be specified and it is possible to specify with which `EvaluationObject` the variable is associated.\n",
    "By default, the variable is associated with all evaluation objects."
   ]
  },
  {
   "cell_type": "code",
   "execution_count": 4,
   "id": "6867b8c5",
   "metadata": {},
   "outputs": [],
   "source": [
    "optimization_problem.add_variable('cycle_time', lb=10, ub=600, evaluation_objects=process)\n",
    "optimization_problem.add_variable('feed_duration.time', lb=10, ub=300)"
   ]
  },
  {
   "cell_type": "markdown",
   "id": "5fb5c9ad",
   "metadata": {},
   "source": [
    "Moreover, linear constraints can be added to the optimization problem.\n",
    "In this example, it needs to be ensured that the cycle time is always greater than the feed duration.\n",
    "Linear constraints are usually defined in the following way\n",
    "\n",
    "$$\n",
    "A \\cdot x \\leq b\n",
    "$$\n",
    "\n",
    "In **CADET-Process**, add each row $a$ of the constraint matrix needs to be added individually.\n",
    "The `add_linear_constraint` function takes the variables subject to the constraint as first argument.\n",
    "The left-hand side $a$ and the bound $b_a$ are passed as second and third argument. \n",
    "It is important to note that the column order in $a$ is inferred from the order in which the optimization variables are passed."
   ]
  },
  {
   "cell_type": "code",
   "execution_count": 5,
   "id": "dbdb29ba",
   "metadata": {},
   "outputs": [],
   "source": [
    "optimization_problem.add_linear_constraint(['feed_duration.time', 'cycle_time'], [1,-1], 0)"
   ]
  },
  {
   "cell_type": "markdown",
   "id": "d55f5136",
   "metadata": {},
   "source": [
    "## Evaluation Toolchain\n",
    "In many situations, some preprocessing steps are required before the objective function can be evaluated.\n",
    "\n",
    "In the current example, to evaluate the performance of the process, the following steps need to be performed:\n",
    "- Simulate the process until stationarity is reached.\n",
    "- Determine fractionation times under purity constraints.\n",
    "- Calculate objective functions; Here, two objectives are considered:\n",
    "\t- Productivity,\n",
    "\t- Yield recovery.\n",
    "\n",
    "To implement these evaluation toolchains, **CADET-Process** provides a mechanism to add `Evaluators` to an `OptimizationProblem` which can be referenced by objective and constraint functions.\n",
    "Any callable function can be added as `Evaluator`, assuming the first argument is the result of the previous step and it returns a single result object which is then processed by the next step.\n",
    "Additional arguments and keyword arguments can be passed using `args` and `kwargs` when adding the `Evaluator`.\n",
    "Optionally, the intermediate results can be cached when different objective and constraint functions require the same preprocessing steps.\n",
    "\n",
    "To demonstrate this, a `ProcessSimulator` and a fully configured `FractionationOptimizer` are added to the `OptimizationProblem`.\n",
    "First, `CADET` is configured as usual, and the assertion of cyclic stationarity is enabled."
   ]
  },
  {
   "cell_type": "code",
   "execution_count": 6,
   "id": "56edaa9b",
   "metadata": {},
   "outputs": [],
   "source": [
    "from CADETProcess.simulator import Cadet\n",
    "process_simulator = Cadet()\n",
    "process_simulator.evaluate_stationarity = True\n",
    "\n",
    "optimization_problem.add_evaluator(process_simulator)"
   ]
  },
  {
   "cell_type": "markdown",
   "id": "b351719e",
   "metadata": {},
   "source": [
    "Note that storing all simulation results requires large amounts of disk space.\n",
    "Here, only the fractionation results are cached since they will be used by both objectives."
   ]
  },
  {
   "cell_type": "code",
   "execution_count": 7,
   "id": "536aeae1",
   "metadata": {},
   "outputs": [],
   "source": [
    "from CADETProcess.fractionation import FractionationOptimizer\n",
    "fractionation_optimization = FractionationOptimizer()\n",
    "\n",
    "optimization_problem.add_evaluator(fractionation_optimization, cache=True, kwargs={'purity_required': [0.95, 0.95]})"
   ]
  },
  {
   "cell_type": "markdown",
   "id": "9a369285",
   "metadata": {},
   "source": [
    "When adding the objectives (or nonlinear constraint) functions, the evaluators are added as requirements."
   ]
  },
  {
   "cell_type": "code",
   "execution_count": 8,
   "id": "3f1c9500",
   "metadata": {},
   "outputs": [],
   "source": [
    "from CADETProcess.performance import Recovery, Productivity\n",
    "\n",
    "recovery = Recovery()\n",
    "optimization_problem.add_objective(recovery, n_objectives=2, requires=[process_simulator, fractionation_optimization])\n",
    "productivity = Productivity()\n",
    "optimization_problem.add_objective(productivity, n_objectives=2, requires=[process_simulator, fractionation_optimization])"
   ]
  },
  {
   "cell_type": "markdown",
   "id": "f7bff803",
   "metadata": {},
   "source": [
    "Now, when the objectives are evaluated, the process is only simulated once, and the optimal fractionation times only need to be determined once."
   ]
  },
  {
   "cell_type": "code",
   "execution_count": 9,
   "id": "2b97d1be",
   "metadata": {},
   "outputs": [
    {
     "name": "stdout",
     "output_type": "stream",
     "text": [
      "objectives: [-0.8323210414681842, -0.7199629648823258, -0.020442593825471585, -0.017682972948166478]\n"
     ]
    }
   ],
   "source": [
    "f = optimization_problem.evaluate_objectives([300, 60])\n",
    "print(f\"objectives: {f}\")"
   ]
  },
  {
   "cell_type": "markdown",
   "id": "1ed1b9e8",
   "metadata": {},
   "source": [
    "## Optimizer\n",
    "Before the optimization can be run, the `Optimizer` needs to be initialized and configured.\n",
    "For this example, `U_NSGA3` is used, a genetic algorithm {cite}`Seada2016`.\n",
    "Important parameters are the population size (`pop_size`), the maximum number of generations (`n_max_gen`) and the number of cores (`n_cores`) which can be used during optimization."
   ]
  },
  {
   "cell_type": "code",
   "execution_count": 10,
   "id": "50892c6e",
   "metadata": {},
   "outputs": [],
   "source": [
    "from CADETProcess.optimization import U_NSGA3\n",
    "\n",
    "optimizer = U_NSGA3()\n",
    "optimizer.pop_size = 4\n",
    "optimizer.n_max_gen = 4\n",
    "optimizer.n_cores = 1"
   ]
  },
  {
   "cell_type": "markdown",
   "id": "cdc30992",
   "metadata": {},
   "source": [
    "To start the simulation, the `OptimizationProblem` needs to be passed to the `optimize()` method.\n",
    "**CADET-Process** automatically stores checkpoints so that an optimization can be interrupted and restarted.\n",
    "To load from an existing file, set `use_checkpoint=True`.\n",
    "\n",
    "<!-- ``` -->"
   ]
  },
  {
   "cell_type": "code",
   "execution_count": 12,
   "id": "9e420ca1",
   "metadata": {
    "collapsed": true,
    "jupyter": {
     "outputs_hidden": true
    },
    "tags": []
   },
   "outputs": [
    {
     "name": "stdout",
     "output_type": "stream",
     "text": [
      "Scaling...\n",
      " A: min|aij| =  1.000e+00  max|aij| =  1.000e+00  ratio =  1.000e+00\n",
      "Problem data seem to be well scaled\n"
     ]
    },
    {
     "name": "stderr",
     "output_type": "stream",
     "text": [
      "Simulation of batch elution with parameters {'parameters': {'feed_on': {'time': 0.0, 'state': array([1.e-06, 0.e+00, 0.e+00, 0.e+00])}, 'feed_duration': {'time': 73.48978572857229}, 'cycle_time': 116.25863904323063, 'flow_sheet': {'feed': {'flow_rate': array([0., 0., 0., 0.]), 'c': array([[10.,  0.,  0.,  0.],\n",
      "       [10.,  0.,  0.,  0.]])}, 'output_states': {'feed': [1], 'eluent': [1], 'column': [1], 'outlet': []}, 'eluent': {'flow_rate': array([0., 0., 0., 0.]), 'c': array([[0., 0., 0., 0.],\n",
      "       [0., 0., 0., 0.]])}, 'column': {'length': 0.6, 'diameter': 0.024, 'axial_dispersion': 4.7e-07, 'flow_direction': 1, 'total_porosity': 0.7, 'binding_model': {'is_kinetic': False, 'adsorption_rate': [0.02, 0.03], 'desorption_rate': [1, 1], 'capacity': [100, 100]}, 'discretization': {'ncol': 100, 'use_analytic_jacobian': True, 'reconstruction': 'WENO', 'weno': {'boundary_model': 0, 'weno_eps': 1e-10, 'weno_order': 3}, 'consistency_solver': {'solver_name': 'LEVMAR', 'init_damping': 0.01, 'min_damping': 0.0001, 'max_iterations': 50, 'subsolvers': 'LEVMAR'}}}, 'outlet': {}}}, 'initial_state': {'system_state': None, 'system_state_derivative': None, 'flow_sheet': {'feed': {}, 'eluent': {}, 'column': {'c': [0, 0], 'q': [0, 0]}, 'outlet': {}}}} failed.\n",
      "There was an exception in simulate_to_stationarity\n",
      "Traceback (most recent call last):\n",
      "  File \"/opt/tljh/user/lib/python3.9/site-packages/CADETProcess/log.py\", line 102, in wrapper\n",
      "    return function(*args, **kwargs)\n",
      "  File \"/opt/tljh/user/lib/python3.9/site-packages/CADETProcess/simulator/simulator.py\", line 280, in simulate_to_stationarity\n",
      "    results = self.run(process, **kwargs)\n",
      "  File \"/opt/tljh/user/lib/python3.9/site-packages/CADETProcess/simulator/cadetAdapter.py\", line 269, in run\n",
      "    raise CADETProcessError(\n",
      "CADETProcess.CADETProcessError.CADETProcessError: CADET Error: b''\n",
      "Evaluation of Recovery failed at [116.25863904323063, 73.48978572857229]. Returning bad metrics.\n",
      "Simulation of batch elution with parameters {'parameters': {'feed_on': {'time': 0.0, 'state': array([1.e-06, 0.e+00, 0.e+00, 0.e+00])}, 'feed_duration': {'time': 73.48978572857229}, 'cycle_time': 116.25863904323063, 'flow_sheet': {'feed': {'flow_rate': array([0., 0., 0., 0.]), 'c': array([[10.,  0.,  0.,  0.],\n",
      "       [10.,  0.,  0.,  0.]])}, 'output_states': {'feed': [1], 'eluent': [1], 'column': [1], 'outlet': []}, 'eluent': {'flow_rate': array([0., 0., 0., 0.]), 'c': array([[0., 0., 0., 0.],\n",
      "       [0., 0., 0., 0.]])}, 'column': {'length': 0.6, 'diameter': 0.024, 'axial_dispersion': 4.7e-07, 'flow_direction': 1, 'total_porosity': 0.7, 'binding_model': {'is_kinetic': False, 'adsorption_rate': [0.02, 0.03], 'desorption_rate': [1, 1], 'capacity': [100, 100]}, 'discretization': {'ncol': 100, 'use_analytic_jacobian': True, 'reconstruction': 'WENO', 'weno': {'boundary_model': 0, 'weno_eps': 1e-10, 'weno_order': 3}, 'consistency_solver': {'solver_name': 'LEVMAR', 'init_damping': 0.01, 'min_damping': 0.0001, 'max_iterations': 50, 'subsolvers': 'LEVMAR'}}}, 'outlet': {}}}, 'initial_state': {'system_state': None, 'system_state_derivative': None, 'flow_sheet': {'feed': {}, 'eluent': {}, 'column': {'c': [0, 0], 'q': [0, 0]}, 'outlet': {}}}} failed.\n",
      "There was an exception in simulate_to_stationarity\n",
      "Traceback (most recent call last):\n",
      "  File \"/opt/tljh/user/lib/python3.9/site-packages/CADETProcess/log.py\", line 102, in wrapper\n",
      "    return function(*args, **kwargs)\n",
      "  File \"/opt/tljh/user/lib/python3.9/site-packages/CADETProcess/simulator/simulator.py\", line 280, in simulate_to_stationarity\n",
      "    results = self.run(process, **kwargs)\n",
      "  File \"/opt/tljh/user/lib/python3.9/site-packages/CADETProcess/simulator/cadetAdapter.py\", line 269, in run\n",
      "    raise CADETProcessError(\n",
      "CADETProcess.CADETProcessError.CADETProcessError: CADET Error: b''\n",
      "Evaluation of Productivity failed at [116.25863904323063, 73.48978572857229]. Returning bad metrics.\n"
     ]
    },
    {
     "name": "stdout",
     "output_type": "stream",
     "text": [
      "=======================================================\n",
      "n_gen |  n_eval |  n_nds  |     eps      |  indicator  \n",
      "=======================================================\n",
      "    1 |       4 |       1 |            - |            -\n"
     ]
    },
    {
     "name": "stderr",
     "output_type": "stream",
     "text": [
      "WARNING:root:Too few points to create valid contours\n",
      "/opt/tljh/user/lib/python3.9/site-packages/pymoo/core/plot.py:133: UserWarning: Tight layout not applied. tight_layout cannot make axes width small enough to accommodate all axes decorations\n",
      "  self.fig.tight_layout()\n",
      "Simulation of batch elution with parameters {'parameters': {'feed_on': {'time': 0.0, 'state': array([1.e-06, 0.e+00, 0.e+00, 0.e+00])}, 'feed_duration': {'time': 79.45630536446274}, 'cycle_time': 116.25863904323063, 'flow_sheet': {'feed': {'flow_rate': array([0., 0., 0., 0.]), 'c': array([[10.,  0.,  0.,  0.],\n",
      "       [10.,  0.,  0.,  0.]])}, 'output_states': {'feed': [1], 'eluent': [1], 'column': [1], 'outlet': []}, 'eluent': {'flow_rate': array([0., 0., 0., 0.]), 'c': array([[0., 0., 0., 0.],\n",
      "       [0., 0., 0., 0.]])}, 'column': {'length': 0.6, 'diameter': 0.024, 'axial_dispersion': 4.7e-07, 'flow_direction': 1, 'total_porosity': 0.7, 'binding_model': {'is_kinetic': False, 'adsorption_rate': [0.02, 0.03], 'desorption_rate': [1, 1], 'capacity': [100, 100]}, 'discretization': {'ncol': 100, 'use_analytic_jacobian': True, 'reconstruction': 'WENO', 'weno': {'boundary_model': 0, 'weno_eps': 1e-10, 'weno_order': 3}, 'consistency_solver': {'solver_name': 'LEVMAR', 'init_damping': 0.01, 'min_damping': 0.0001, 'max_iterations': 50, 'subsolvers': 'LEVMAR'}}}, 'outlet': {}}}, 'initial_state': {'system_state': None, 'system_state_derivative': None, 'flow_sheet': {'feed': {}, 'eluent': {}, 'column': {'c': [0, 0], 'q': [0, 0]}, 'outlet': {}}}} failed.\n",
      "There was an exception in simulate_to_stationarity\n",
      "Traceback (most recent call last):\n",
      "  File \"/opt/tljh/user/lib/python3.9/site-packages/CADETProcess/log.py\", line 102, in wrapper\n",
      "    return function(*args, **kwargs)\n",
      "  File \"/opt/tljh/user/lib/python3.9/site-packages/CADETProcess/simulator/simulator.py\", line 280, in simulate_to_stationarity\n",
      "    results = self.run(process, **kwargs)\n",
      "  File \"/opt/tljh/user/lib/python3.9/site-packages/CADETProcess/simulator/cadetAdapter.py\", line 269, in run\n",
      "    raise CADETProcessError(\n",
      "CADETProcess.CADETProcessError.CADETProcessError: CADET Error: b''\n",
      "Evaluation of Recovery failed at [116.25863904323063, 79.45630536446274]. Returning bad metrics.\n",
      "Simulation of batch elution with parameters {'parameters': {'feed_on': {'time': 0.0, 'state': array([1.e-06, 0.e+00, 0.e+00, 0.e+00])}, 'feed_duration': {'time': 79.45630536446274}, 'cycle_time': 116.25863904323063, 'flow_sheet': {'feed': {'flow_rate': array([0., 0., 0., 0.]), 'c': array([[10.,  0.,  0.,  0.],\n",
      "       [10.,  0.,  0.,  0.]])}, 'output_states': {'feed': [1], 'eluent': [1], 'column': [1], 'outlet': []}, 'eluent': {'flow_rate': array([0., 0., 0., 0.]), 'c': array([[0., 0., 0., 0.],\n",
      "       [0., 0., 0., 0.]])}, 'column': {'length': 0.6, 'diameter': 0.024, 'axial_dispersion': 4.7e-07, 'flow_direction': 1, 'total_porosity': 0.7, 'binding_model': {'is_kinetic': False, 'adsorption_rate': [0.02, 0.03], 'desorption_rate': [1, 1], 'capacity': [100, 100]}, 'discretization': {'ncol': 100, 'use_analytic_jacobian': True, 'reconstruction': 'WENO', 'weno': {'boundary_model': 0, 'weno_eps': 1e-10, 'weno_order': 3}, 'consistency_solver': {'solver_name': 'LEVMAR', 'init_damping': 0.01, 'min_damping': 0.0001, 'max_iterations': 50, 'subsolvers': 'LEVMAR'}}}, 'outlet': {}}}, 'initial_state': {'system_state': None, 'system_state_derivative': None, 'flow_sheet': {'feed': {}, 'eluent': {}, 'column': {'c': [0, 0], 'q': [0, 0]}, 'outlet': {}}}} failed.\n",
      "There was an exception in simulate_to_stationarity\n",
      "Traceback (most recent call last):\n",
      "  File \"/opt/tljh/user/lib/python3.9/site-packages/CADETProcess/log.py\", line 102, in wrapper\n",
      "    return function(*args, **kwargs)\n",
      "  File \"/opt/tljh/user/lib/python3.9/site-packages/CADETProcess/simulator/simulator.py\", line 280, in simulate_to_stationarity\n",
      "    results = self.run(process, **kwargs)\n",
      "  File \"/opt/tljh/user/lib/python3.9/site-packages/CADETProcess/simulator/cadetAdapter.py\", line 269, in run\n",
      "    raise CADETProcessError(\n",
      "CADETProcess.CADETProcessError.CADETProcessError: CADET Error: b''\n",
      "Evaluation of Productivity failed at [116.25863904323063, 79.45630536446274]. Returning bad metrics.\n"
     ]
    },
    {
     "name": "stdout",
     "output_type": "stream",
     "text": [
      "    2 |       8 |       1 |  0.00000E+00 |            f\n"
     ]
    },
    {
     "name": "stderr",
     "output_type": "stream",
     "text": [
      "WARNING:root:Too few points to create valid contours\n",
      "/opt/tljh/user/lib/python3.9/site-packages/pymoo/core/plot.py:133: UserWarning: Tight layout not applied. tight_layout cannot make axes width small enough to accommodate all axes decorations\n",
      "  self.fig.tight_layout()\n",
      "Simulation of batch elution with parameters {'parameters': {'feed_on': {'time': 0.0, 'state': array([1.e-06, 0.e+00, 0.e+00, 0.e+00])}, 'feed_duration': {'time': 176.27146259965392}, 'cycle_time': 361.8746679955175, 'flow_sheet': {'feed': {'flow_rate': array([0., 0., 0., 0.]), 'c': array([[10.,  0.,  0.,  0.],\n",
      "       [10.,  0.,  0.,  0.]])}, 'output_states': {'feed': [1], 'eluent': [1], 'column': [1], 'outlet': []}, 'eluent': {'flow_rate': array([0., 0., 0., 0.]), 'c': array([[0., 0., 0., 0.],\n",
      "       [0., 0., 0., 0.]])}, 'column': {'length': 0.6, 'diameter': 0.024, 'axial_dispersion': 4.7e-07, 'flow_direction': 1, 'total_porosity': 0.7, 'binding_model': {'is_kinetic': False, 'adsorption_rate': [0.02, 0.03], 'desorption_rate': [1, 1], 'capacity': [100, 100]}, 'discretization': {'ncol': 100, 'use_analytic_jacobian': True, 'reconstruction': 'WENO', 'weno': {'boundary_model': 0, 'weno_eps': 1e-10, 'weno_order': 3}, 'consistency_solver': {'solver_name': 'LEVMAR', 'init_damping': 0.01, 'min_damping': 0.0001, 'max_iterations': 50, 'subsolvers': 'LEVMAR'}}}, 'outlet': {}}}, 'initial_state': {'system_state': None, 'system_state_derivative': None, 'flow_sheet': {'feed': {}, 'eluent': {}, 'column': {'c': [0, 0], 'q': [0, 0]}, 'outlet': {}}}} failed.\n",
      "There was an exception in simulate_to_stationarity\n",
      "Traceback (most recent call last):\n",
      "  File \"/opt/tljh/user/lib/python3.9/site-packages/CADETProcess/log.py\", line 102, in wrapper\n",
      "    return function(*args, **kwargs)\n",
      "  File \"/opt/tljh/user/lib/python3.9/site-packages/CADETProcess/simulator/simulator.py\", line 280, in simulate_to_stationarity\n",
      "    results = self.run(process, **kwargs)\n",
      "  File \"/opt/tljh/user/lib/python3.9/site-packages/CADETProcess/simulator/cadetAdapter.py\", line 269, in run\n",
      "    raise CADETProcessError(\n",
      "CADETProcess.CADETProcessError.CADETProcessError: CADET Error: b''\n",
      "Evaluation of Recovery failed at [361.8746679955175, 176.27146259965392]. Returning bad metrics.\n",
      "Simulation of batch elution with parameters {'parameters': {'feed_on': {'time': 0.0, 'state': array([1.e-06, 0.e+00, 0.e+00, 0.e+00])}, 'feed_duration': {'time': 176.27146259965392}, 'cycle_time': 361.8746679955175, 'flow_sheet': {'feed': {'flow_rate': array([0., 0., 0., 0.]), 'c': array([[10.,  0.,  0.,  0.],\n",
      "       [10.,  0.,  0.,  0.]])}, 'output_states': {'feed': [1], 'eluent': [1], 'column': [1], 'outlet': []}, 'eluent': {'flow_rate': array([0., 0., 0., 0.]), 'c': array([[0., 0., 0., 0.],\n",
      "       [0., 0., 0., 0.]])}, 'column': {'length': 0.6, 'diameter': 0.024, 'axial_dispersion': 4.7e-07, 'flow_direction': 1, 'total_porosity': 0.7, 'binding_model': {'is_kinetic': False, 'adsorption_rate': [0.02, 0.03], 'desorption_rate': [1, 1], 'capacity': [100, 100]}, 'discretization': {'ncol': 100, 'use_analytic_jacobian': True, 'reconstruction': 'WENO', 'weno': {'boundary_model': 0, 'weno_eps': 1e-10, 'weno_order': 3}, 'consistency_solver': {'solver_name': 'LEVMAR', 'init_damping': 0.01, 'min_damping': 0.0001, 'max_iterations': 50, 'subsolvers': 'LEVMAR'}}}, 'outlet': {}}}, 'initial_state': {'system_state': None, 'system_state_derivative': None, 'flow_sheet': {'feed': {}, 'eluent': {}, 'column': {'c': [0, 0], 'q': [0, 0]}, 'outlet': {}}}} failed.\n",
      "There was an exception in simulate_to_stationarity\n",
      "Traceback (most recent call last):\n",
      "  File \"/opt/tljh/user/lib/python3.9/site-packages/CADETProcess/log.py\", line 102, in wrapper\n",
      "    return function(*args, **kwargs)\n",
      "  File \"/opt/tljh/user/lib/python3.9/site-packages/CADETProcess/simulator/simulator.py\", line 280, in simulate_to_stationarity\n",
      "    results = self.run(process, **kwargs)\n",
      "  File \"/opt/tljh/user/lib/python3.9/site-packages/CADETProcess/simulator/cadetAdapter.py\", line 269, in run\n",
      "    raise CADETProcessError(\n",
      "CADETProcess.CADETProcessError.CADETProcessError: CADET Error: b''\n",
      "Evaluation of Productivity failed at [361.8746679955175, 176.27146259965392]. Returning bad metrics.\n"
     ]
    },
    {
     "name": "stdout",
     "output_type": "stream",
     "text": [
      "    3 |      12 |       1 |  0.00000E+00 |            f\n"
     ]
    },
    {
     "name": "stderr",
     "output_type": "stream",
     "text": [
      "WARNING:root:Too few points to create valid contours\n",
      "/opt/tljh/user/lib/python3.9/site-packages/pymoo/core/plot.py:133: UserWarning: Tight layout not applied. tight_layout cannot make axes width small enough to accommodate all axes decorations\n",
      "  self.fig.tight_layout()\n",
      "There was an exception in simulate_to_stationarity\n",
      "Traceback (most recent call last):\n",
      "  File \"/opt/tljh/user/lib/python3.9/site-packages/CADETProcess/log.py\", line 102, in wrapper\n",
      "    return function(*args, **kwargs)\n",
      "  File \"/opt/tljh/user/lib/python3.9/site-packages/CADETProcess/simulator/simulator.py\", line 280, in simulate_to_stationarity\n",
      "    results = self.run(process, **kwargs)\n",
      "  File \"/opt/tljh/user/lib/python3.9/site-packages/CADETProcess/simulator/cadetAdapter.py\", line 259, in run\n",
      "    return_information = cadet.run_load(timeout=self.timeout)\n",
      "  File \"/opt/tljh/user/lib/python3.9/site-packages/cadet/cadet.py\", line 218, in run_load\n",
      "    data = self.cadet_runner.run(simulation=self.root.input, filename=self.filename, timeout=timeout, check=check)\n",
      "  File \"/opt/tljh/user/lib/python3.9/site-packages/cadet/cadet.py\", line 237, in run\n",
      "    data = subprocess.run([self.cadet_path, filename], timeout = timeout, check=check, capture_output=True)\n",
      "  File \"/opt/tljh/user/lib/python3.9/subprocess.py\", line 507, in run\n",
      "    stdout, stderr = process.communicate(input, timeout=timeout)\n",
      "  File \"/opt/tljh/user/lib/python3.9/subprocess.py\", line 1134, in communicate\n",
      "    stdout, stderr = self._communicate(input, endtime, timeout)\n",
      "  File \"/opt/tljh/user/lib/python3.9/subprocess.py\", line 1979, in _communicate\n",
      "    ready = selector.select(timeout)\n",
      "  File \"/opt/tljh/user/lib/python3.9/selectors.py\", line 416, in select\n",
      "    fd_event_list = self._selector.poll(timeout)\n",
      "KeyboardInterrupt\n"
     ]
    },
    {
     "ename": "KeyboardInterrupt",
     "evalue": "",
     "output_type": "error",
     "traceback": [
      "\u001b[0;31m---------------------------------------------------------------------------\u001b[0m",
      "\u001b[0;31mKeyboardInterrupt\u001b[0m                         Traceback (most recent call last)",
      "Input \u001b[0;32mIn [12]\u001b[0m, in \u001b[0;36m<cell line: 1>\u001b[0;34m()\u001b[0m\n\u001b[0;32m----> 1\u001b[0m optimization_results \u001b[38;5;241m=\u001b[39m \u001b[43moptimizer\u001b[49m\u001b[38;5;241;43m.\u001b[39;49m\u001b[43moptimize\u001b[49m\u001b[43m(\u001b[49m\n\u001b[1;32m      2\u001b[0m \u001b[43m    \u001b[49m\u001b[43moptimization_problem\u001b[49m\u001b[43m,\u001b[49m\n\u001b[1;32m      3\u001b[0m \u001b[43m    \u001b[49m\u001b[43muse_checkpoint\u001b[49m\u001b[38;5;241;43m=\u001b[39;49m\u001b[38;5;28;43;01mTrue\u001b[39;49;00m\u001b[43m,\u001b[49m\n\u001b[1;32m      4\u001b[0m \u001b[43m)\u001b[49m\n",
      "File \u001b[0;32m/opt/tljh/user/lib/python3.9/site-packages/CADETProcess/optimization/optimizer.py:56\u001b[0m, in \u001b[0;36mOptimizerBase.optimize\u001b[0;34m(self, optimization_problem, save_results, *args, **kwargs)\u001b[0m\n\u001b[1;32m     53\u001b[0m log\u001b[38;5;241m.\u001b[39mlog_results(\u001b[38;5;124m'\u001b[39m\u001b[38;5;124mOptimization\u001b[39m\u001b[38;5;124m'\u001b[39m, \u001b[38;5;28mself\u001b[39m\u001b[38;5;241m.\u001b[39mlogger\u001b[38;5;241m.\u001b[39mlevel)(\u001b[38;5;28mself\u001b[39m\u001b[38;5;241m.\u001b[39mrun)\n\u001b[1;32m     54\u001b[0m log\u001b[38;5;241m.\u001b[39mlog_exceptions(\u001b[38;5;124m'\u001b[39m\u001b[38;5;124mOptimization\u001b[39m\u001b[38;5;124m'\u001b[39m, \u001b[38;5;28mself\u001b[39m\u001b[38;5;241m.\u001b[39mlogger\u001b[38;5;241m.\u001b[39mlevel)(\u001b[38;5;28mself\u001b[39m\u001b[38;5;241m.\u001b[39mrun)\n\u001b[0;32m---> 56\u001b[0m results \u001b[38;5;241m=\u001b[39m \u001b[38;5;28;43mself\u001b[39;49m\u001b[38;5;241;43m.\u001b[39;49m\u001b[43mrun\u001b[49m\u001b[43m(\u001b[49m\u001b[43moptimization_problem\u001b[49m\u001b[43m,\u001b[49m\u001b[43m \u001b[49m\u001b[38;5;241;43m*\u001b[39;49m\u001b[43margs\u001b[49m\u001b[43m,\u001b[49m\u001b[43m \u001b[49m\u001b[38;5;241;43m*\u001b[39;49m\u001b[38;5;241;43m*\u001b[39;49m\u001b[43mkwargs\u001b[49m\u001b[43m)\u001b[49m\n\u001b[1;32m     58\u001b[0m plt\u001b[38;5;241m.\u001b[39mswitch_backend(backend)\n\u001b[1;32m     60\u001b[0m \u001b[38;5;28;01mif\u001b[39;00m save_results:\n",
      "File \u001b[0;32m/opt/tljh/user/lib/python3.9/site-packages/CADETProcess/optimization/pymooAdapter.py:85\u001b[0m, in \u001b[0;36mPymooInterface.run\u001b[0;34m(self, optimization_problem, use_checkpoint, update_parameters)\u001b[0m\n\u001b[1;32m     82\u001b[0m start \u001b[38;5;241m=\u001b[39m time\u001b[38;5;241m.\u001b[39mtime()\n\u001b[1;32m     84\u001b[0m \u001b[38;5;28;01mwhile\u001b[39;00m \u001b[38;5;28mself\u001b[39m\u001b[38;5;241m.\u001b[39malgorithm\u001b[38;5;241m.\u001b[39mhas_next():\n\u001b[0;32m---> 85\u001b[0m     \u001b[38;5;28;43mself\u001b[39;49m\u001b[38;5;241;43m.\u001b[39;49m\u001b[43malgorithm\u001b[49m\u001b[38;5;241;43m.\u001b[39;49m\u001b[43mnext\u001b[49m\u001b[43m(\u001b[49m\u001b[43m)\u001b[49m\n\u001b[1;32m     87\u001b[0m     \u001b[38;5;28;01mfor\u001b[39;00m ind \u001b[38;5;129;01min\u001b[39;00m \u001b[38;5;28mself\u001b[39m\u001b[38;5;241m.\u001b[39malgorithm\u001b[38;5;241m.\u001b[39mpop:\n\u001b[1;32m     88\u001b[0m         \u001b[38;5;28;01mif\u001b[39;00m \u001b[38;5;28mself\u001b[39m\u001b[38;5;241m.\u001b[39moptimization_problem\u001b[38;5;241m.\u001b[39mn_nonlinear_constraints \u001b[38;5;241m>\u001b[39m \u001b[38;5;241m0\u001b[39m:\n",
      "File \u001b[0;32m/opt/tljh/user/lib/python3.9/site-packages/pymoo/core/algorithm.py:233\u001b[0m, in \u001b[0;36mAlgorithm.next\u001b[0;34m(self)\u001b[0m\n\u001b[1;32m    231\u001b[0m \u001b[38;5;66;03m# call the advance with them after evaluation\u001b[39;00m\n\u001b[1;32m    232\u001b[0m \u001b[38;5;28;01mif\u001b[39;00m infills \u001b[38;5;129;01mis\u001b[39;00m \u001b[38;5;129;01mnot\u001b[39;00m \u001b[38;5;28;01mNone\u001b[39;00m:\n\u001b[0;32m--> 233\u001b[0m     \u001b[38;5;28;43mself\u001b[39;49m\u001b[38;5;241;43m.\u001b[39;49m\u001b[43mevaluator\u001b[49m\u001b[38;5;241;43m.\u001b[39;49m\u001b[43meval\u001b[49m\u001b[43m(\u001b[49m\u001b[38;5;28;43mself\u001b[39;49m\u001b[38;5;241;43m.\u001b[39;49m\u001b[43mproblem\u001b[49m\u001b[43m,\u001b[49m\u001b[43m \u001b[49m\u001b[43minfills\u001b[49m\u001b[43m,\u001b[49m\u001b[43m \u001b[49m\u001b[43malgorithm\u001b[49m\u001b[38;5;241;43m=\u001b[39;49m\u001b[38;5;28;43mself\u001b[39;49m\u001b[43m)\u001b[49m\n\u001b[1;32m    234\u001b[0m     \u001b[38;5;28mself\u001b[39m\u001b[38;5;241m.\u001b[39madvance(infills\u001b[38;5;241m=\u001b[39minfills)\n\u001b[1;32m    236\u001b[0m \u001b[38;5;66;03m# if the algorithm does not follow the infill-advance scheme just call advance\u001b[39;00m\n\u001b[1;32m    237\u001b[0m \u001b[38;5;28;01melse\u001b[39;00m:\n",
      "File \u001b[0;32m/opt/tljh/user/lib/python3.9/site-packages/pymoo/core/evaluator.py:95\u001b[0m, in \u001b[0;36mEvaluator.eval\u001b[0;34m(self, problem, pop, skip_already_evaluated, evaluate_values_of, count_evals, **kwargs)\u001b[0m\n\u001b[1;32m     93\u001b[0m \u001b[38;5;66;03m# actually evaluate all solutions using the function that can be overwritten\u001b[39;00m\n\u001b[1;32m     94\u001b[0m \u001b[38;5;28;01mif\u001b[39;00m \u001b[38;5;28mlen\u001b[39m(I) \u001b[38;5;241m>\u001b[39m \u001b[38;5;241m0\u001b[39m:\n\u001b[0;32m---> 95\u001b[0m     \u001b[38;5;28;43mself\u001b[39;49m\u001b[38;5;241;43m.\u001b[39;49m\u001b[43m_eval\u001b[49m\u001b[43m(\u001b[49m\u001b[43mproblem\u001b[49m\u001b[43m,\u001b[49m\u001b[43m \u001b[49m\u001b[43mpop\u001b[49m\u001b[43m[\u001b[49m\u001b[43mI\u001b[49m\u001b[43m]\u001b[49m\u001b[43m,\u001b[49m\u001b[43m \u001b[49m\u001b[43mevaluate_values_of\u001b[49m\u001b[38;5;241;43m=\u001b[39;49m\u001b[43mevaluate_values_of\u001b[49m\u001b[43m,\u001b[49m\u001b[43m \u001b[49m\u001b[38;5;241;43m*\u001b[39;49m\u001b[38;5;241;43m*\u001b[39;49m\u001b[43mkwargs\u001b[49m\u001b[43m)\u001b[49m\n\u001b[1;32m     97\u001b[0m     \u001b[38;5;66;03m# set the feasibility attribute if cv exists\u001b[39;00m\n\u001b[1;32m     98\u001b[0m     set_feasibility(pop[I])\n",
      "File \u001b[0;32m/opt/tljh/user/lib/python3.9/site-packages/pymoo/core/evaluator.py:112\u001b[0m, in \u001b[0;36mEvaluator._eval\u001b[0;34m(self, problem, pop, evaluate_values_of, **kwargs)\u001b[0m\n\u001b[1;32m    109\u001b[0m \u001b[38;5;28;01mdef\u001b[39;00m \u001b[38;5;21m_eval\u001b[39m(\u001b[38;5;28mself\u001b[39m, problem, pop, evaluate_values_of\u001b[38;5;241m=\u001b[39m\u001b[38;5;28;01mNone\u001b[39;00m, \u001b[38;5;241m*\u001b[39m\u001b[38;5;241m*\u001b[39mkwargs):\n\u001b[1;32m    110\u001b[0m     evaluate_values_of \u001b[38;5;241m=\u001b[39m \u001b[38;5;28mself\u001b[39m\u001b[38;5;241m.\u001b[39mevaluate_values_of \u001b[38;5;28;01mif\u001b[39;00m evaluate_values_of \u001b[38;5;129;01mis\u001b[39;00m \u001b[38;5;28;01mNone\u001b[39;00m \u001b[38;5;28;01melse\u001b[39;00m evaluate_values_of\n\u001b[0;32m--> 112\u001b[0m     out \u001b[38;5;241m=\u001b[39m \u001b[43mproblem\u001b[49m\u001b[38;5;241;43m.\u001b[39;49m\u001b[43mevaluate\u001b[49m\u001b[43m(\u001b[49m\u001b[43mpop\u001b[49m\u001b[38;5;241;43m.\u001b[39;49m\u001b[43mget\u001b[49m\u001b[43m(\u001b[49m\u001b[38;5;124;43m\"\u001b[39;49m\u001b[38;5;124;43mX\u001b[39;49m\u001b[38;5;124;43m\"\u001b[39;49m\u001b[43m)\u001b[49m\u001b[43m,\u001b[49m\n\u001b[1;32m    113\u001b[0m \u001b[43m                           \u001b[49m\u001b[43mreturn_values_of\u001b[49m\u001b[38;5;241;43m=\u001b[39;49m\u001b[43mevaluate_values_of\u001b[49m\u001b[43m,\u001b[49m\n\u001b[1;32m    114\u001b[0m \u001b[43m                           \u001b[49m\u001b[43mreturn_as_dictionary\u001b[49m\u001b[38;5;241;43m=\u001b[39;49m\u001b[38;5;28;43;01mTrue\u001b[39;49;00m\u001b[43m,\u001b[49m\n\u001b[1;32m    115\u001b[0m \u001b[43m                           \u001b[49m\u001b[38;5;241;43m*\u001b[39;49m\u001b[38;5;241;43m*\u001b[39;49m\u001b[43mkwargs\u001b[49m\u001b[43m)\u001b[49m\n\u001b[1;32m    117\u001b[0m     \u001b[38;5;28;01mfor\u001b[39;00m key, val \u001b[38;5;129;01min\u001b[39;00m out\u001b[38;5;241m.\u001b[39mitems():\n\u001b[1;32m    118\u001b[0m         \u001b[38;5;28;01mif\u001b[39;00m val \u001b[38;5;129;01mis\u001b[39;00m \u001b[38;5;28;01mNone\u001b[39;00m:\n",
      "File \u001b[0;32m/opt/tljh/user/lib/python3.9/site-packages/pymoo/core/problem.py:124\u001b[0m, in \u001b[0;36mProblem.evaluate\u001b[0;34m(self, X, return_values_of, return_as_dictionary, *args, **kwargs)\u001b[0m\n\u001b[1;32m    121\u001b[0m out \u001b[38;5;241m=\u001b[39m dict_with_none(ret_vals)\n\u001b[1;32m    123\u001b[0m \u001b[38;5;66;03m# do the actual evaluation for the given problem - calls in _evaluate method internally\u001b[39;00m\n\u001b[0;32m--> 124\u001b[0m \u001b[38;5;28;43mself\u001b[39;49m\u001b[38;5;241;43m.\u001b[39;49m\u001b[43mdo\u001b[49m\u001b[43m(\u001b[49m\u001b[43mX\u001b[49m\u001b[43m,\u001b[49m\u001b[43m \u001b[49m\u001b[43mout\u001b[49m\u001b[43m,\u001b[49m\u001b[43m \u001b[49m\u001b[38;5;241;43m*\u001b[39;49m\u001b[43margs\u001b[49m\u001b[43m,\u001b[49m\u001b[43m \u001b[49m\u001b[38;5;241;43m*\u001b[39;49m\u001b[38;5;241;43m*\u001b[39;49m\u001b[43mkwargs\u001b[49m\u001b[43m)\u001b[49m\n\u001b[1;32m    126\u001b[0m \u001b[38;5;66;03m# make sure the array is 2d before doing the shape check\u001b[39;00m\n\u001b[1;32m    127\u001b[0m out_to_2d_ndarray(out)\n",
      "File \u001b[0;32m/opt/tljh/user/lib/python3.9/site-packages/pymoo/core/problem.py:162\u001b[0m, in \u001b[0;36mProblem.do\u001b[0;34m(self, X, out, *args, **kwargs)\u001b[0m\n\u001b[1;32m    161\u001b[0m \u001b[38;5;28;01mdef\u001b[39;00m \u001b[38;5;21mdo\u001b[39m(\u001b[38;5;28mself\u001b[39m, X, out, \u001b[38;5;241m*\u001b[39margs, \u001b[38;5;241m*\u001b[39m\u001b[38;5;241m*\u001b[39mkwargs):\n\u001b[0;32m--> 162\u001b[0m     \u001b[38;5;28;43mself\u001b[39;49m\u001b[38;5;241;43m.\u001b[39;49m\u001b[43m_evaluate\u001b[49m\u001b[43m(\u001b[49m\u001b[43mX\u001b[49m\u001b[43m,\u001b[49m\u001b[43m \u001b[49m\u001b[43mout\u001b[49m\u001b[43m,\u001b[49m\u001b[43m \u001b[49m\u001b[38;5;241;43m*\u001b[39;49m\u001b[43margs\u001b[49m\u001b[43m,\u001b[49m\u001b[43m \u001b[49m\u001b[38;5;241;43m*\u001b[39;49m\u001b[38;5;241;43m*\u001b[39;49m\u001b[43mkwargs\u001b[49m\u001b[43m)\u001b[49m\n\u001b[1;32m    163\u001b[0m     out_to_2d_ndarray(out)\n",
      "File \u001b[0;32m/opt/tljh/user/lib/python3.9/site-packages/CADETProcess/optimization/pymooAdapter.py:303\u001b[0m, in \u001b[0;36mPymooProblem._evaluate\u001b[0;34m(self, x, out, *args, **kwargs)\u001b[0m\n\u001b[1;32m    301\u001b[0m opt \u001b[38;5;241m=\u001b[39m \u001b[38;5;28mself\u001b[39m\u001b[38;5;241m.\u001b[39moptimization_problem\n\u001b[1;32m    302\u001b[0m \u001b[38;5;28;01mif\u001b[39;00m opt\u001b[38;5;241m.\u001b[39mn_objectives \u001b[38;5;241m>\u001b[39m \u001b[38;5;241m0\u001b[39m:\n\u001b[0;32m--> 303\u001b[0m     f \u001b[38;5;241m=\u001b[39m \u001b[43mopt\u001b[49m\u001b[38;5;241;43m.\u001b[39;49m\u001b[43mevaluate_objectives_population\u001b[49m\u001b[43m(\u001b[49m\n\u001b[1;32m    304\u001b[0m \u001b[43m        \u001b[49m\u001b[43mx\u001b[49m\u001b[43m,\u001b[49m\n\u001b[1;32m    305\u001b[0m \u001b[43m        \u001b[49m\u001b[43muntransform\u001b[49m\u001b[38;5;241;43m=\u001b[39;49m\u001b[38;5;28;43;01mTrue\u001b[39;49;00m\u001b[43m,\u001b[49m\n\u001b[1;32m    306\u001b[0m \u001b[43m        \u001b[49m\u001b[43mcache\u001b[49m\u001b[38;5;241;43m=\u001b[39;49m\u001b[38;5;28;43mself\u001b[39;49m\u001b[38;5;241;43m.\u001b[39;49m\u001b[43mcache\u001b[49m\u001b[43m,\u001b[49m\n\u001b[1;32m    307\u001b[0m \u001b[43m        \u001b[49m\u001b[43mn_cores\u001b[49m\u001b[38;5;241;43m=\u001b[39;49m\u001b[38;5;28;43mself\u001b[39;49m\u001b[38;5;241;43m.\u001b[39;49m\u001b[43mn_cores\u001b[49m\n\u001b[1;32m    308\u001b[0m \u001b[43m        \u001b[49m\u001b[43m)\u001b[49m\n\u001b[1;32m    309\u001b[0m     out[\u001b[38;5;124m\"\u001b[39m\u001b[38;5;124mF\u001b[39m\u001b[38;5;124m\"\u001b[39m] \u001b[38;5;241m=\u001b[39m np\u001b[38;5;241m.\u001b[39marray(f)\n\u001b[1;32m    311\u001b[0m \u001b[38;5;28;01mif\u001b[39;00m opt\u001b[38;5;241m.\u001b[39mn_nonlinear_constraints \u001b[38;5;241m>\u001b[39m \u001b[38;5;241m0\u001b[39m:\n",
      "File \u001b[0;32m/opt/tljh/user/lib/python3.9/site-packages/CADETProcess/optimization/optimizationProblem.py:345\u001b[0m, in \u001b[0;36mOptimizationProblem.untransforms.<locals>.wrapper\u001b[0;34m(self, x, untransform, *args, **kwargs)\u001b[0m\n\u001b[1;32m    342\u001b[0m \u001b[38;5;28;01mif\u001b[39;00m untransform:\n\u001b[1;32m    343\u001b[0m     x \u001b[38;5;241m=\u001b[39m \u001b[38;5;28mself\u001b[39m\u001b[38;5;241m.\u001b[39muntransform(x)\n\u001b[0;32m--> 345\u001b[0m \u001b[38;5;28;01mreturn\u001b[39;00m \u001b[43mfunc\u001b[49m\u001b[43m(\u001b[49m\u001b[38;5;28;43mself\u001b[39;49m\u001b[43m,\u001b[49m\u001b[43m \u001b[49m\u001b[43mx\u001b[49m\u001b[43m,\u001b[49m\u001b[43m \u001b[49m\u001b[38;5;241;43m*\u001b[39;49m\u001b[43margs\u001b[49m\u001b[43m,\u001b[49m\u001b[43m \u001b[49m\u001b[38;5;241;43m*\u001b[39;49m\u001b[38;5;241;43m*\u001b[39;49m\u001b[43mkwargs\u001b[49m\u001b[43m)\u001b[49m\n",
      "File \u001b[0;32m/opt/tljh/user/lib/python3.9/site-packages/CADETProcess/optimization/optimizationProblem.py:356\u001b[0m, in \u001b[0;36mOptimizationProblem.ensures2d.<locals>.wrapper\u001b[0;34m(self, population, *args, **kwargs)\u001b[0m\n\u001b[1;32m    353\u001b[0m population \u001b[38;5;241m=\u001b[39m np\u001b[38;5;241m.\u001b[39marray(population, ndmin\u001b[38;5;241m=\u001b[39m\u001b[38;5;241m2\u001b[39m)\n\u001b[1;32m    354\u001b[0m population \u001b[38;5;241m=\u001b[39m population\u001b[38;5;241m.\u001b[39mtolist()\n\u001b[0;32m--> 356\u001b[0m \u001b[38;5;28;01mreturn\u001b[39;00m \u001b[43mfunc\u001b[49m\u001b[43m(\u001b[49m\u001b[38;5;28;43mself\u001b[39;49m\u001b[43m,\u001b[49m\u001b[43m \u001b[49m\u001b[43mpopulation\u001b[49m\u001b[43m,\u001b[49m\u001b[43m \u001b[49m\u001b[38;5;241;43m*\u001b[39;49m\u001b[43margs\u001b[49m\u001b[43m,\u001b[49m\u001b[43m \u001b[49m\u001b[38;5;241;43m*\u001b[39;49m\u001b[38;5;241;43m*\u001b[39;49m\u001b[43mkwargs\u001b[49m\u001b[43m)\u001b[49m\n",
      "File \u001b[0;32m/opt/tljh/user/lib/python3.9/site-packages/CADETProcess/optimization/optimizationProblem.py:726\u001b[0m, in \u001b[0;36mOptimizationProblem.evaluate_objectives_population\u001b[0;34m(self, population, cache, force, n_cores)\u001b[0m\n\u001b[1;32m    724\u001b[0m \u001b[38;5;28;01mfor\u001b[39;00m ind \u001b[38;5;129;01min\u001b[39;00m population:\n\u001b[1;32m    725\u001b[0m     \u001b[38;5;28;01mtry\u001b[39;00m:\n\u001b[0;32m--> 726\u001b[0m         res \u001b[38;5;241m=\u001b[39m \u001b[43meval_fun\u001b[49m\u001b[43m(\u001b[49m\u001b[43mind\u001b[49m\u001b[43m)\u001b[49m\n\u001b[1;32m    727\u001b[0m         results\u001b[38;5;241m.\u001b[39mappend(res)\n\u001b[1;32m    728\u001b[0m     \u001b[38;5;28;01mexcept\u001b[39;00m CADETProcessError:\n",
      "File \u001b[0;32m/opt/tljh/user/lib/python3.9/site-packages/CADETProcess/optimization/optimizationProblem.py:713\u001b[0m, in \u001b[0;36mOptimizationProblem.evaluate_objectives_population.<locals>.eval_fun\u001b[0;34m(ind)\u001b[0m\n\u001b[1;32m    711\u001b[0m \u001b[38;5;28;01mdef\u001b[39;00m \u001b[38;5;21meval_fun\u001b[39m(ind):\n\u001b[1;32m    712\u001b[0m     cache_new \u001b[38;5;241m=\u001b[39m \u001b[38;5;28mself\u001b[39m\u001b[38;5;241m.\u001b[39msetup_cache()\n\u001b[0;32m--> 713\u001b[0m     results \u001b[38;5;241m=\u001b[39m \u001b[38;5;28;43mself\u001b[39;49m\u001b[38;5;241;43m.\u001b[39;49m\u001b[43mevaluate_objectives\u001b[49m\u001b[43m(\u001b[49m\n\u001b[1;32m    714\u001b[0m \u001b[43m        \u001b[49m\u001b[43mind\u001b[49m\u001b[43m,\u001b[49m\n\u001b[1;32m    715\u001b[0m \u001b[43m        \u001b[49m\u001b[43mcache\u001b[49m\u001b[38;5;241;43m=\u001b[39;49m\u001b[43mcache\u001b[49m\u001b[43m,\u001b[49m\u001b[43m \u001b[49m\u001b[43mcache_new\u001b[49m\u001b[38;5;241;43m=\u001b[39;49m\u001b[43mcache_new\u001b[49m\u001b[43m,\u001b[49m\n\u001b[1;32m    716\u001b[0m \u001b[43m        \u001b[49m\u001b[43mmake_copy\u001b[49m\u001b[38;5;241;43m=\u001b[39;49m\u001b[38;5;28;43;01mTrue\u001b[39;49;00m\u001b[43m,\u001b[49m\u001b[43m \u001b[49m\u001b[43mforce\u001b[49m\u001b[38;5;241;43m=\u001b[39;49m\u001b[43mforce\u001b[49m\u001b[43m,\u001b[49m\n\u001b[1;32m    717\u001b[0m \u001b[43m    \u001b[49m\u001b[43m)\u001b[49m\n\u001b[1;32m    718\u001b[0m     caches_new\u001b[38;5;241m.\u001b[39mappend(cache_new)\n\u001b[1;32m    720\u001b[0m     \u001b[38;5;28;01mreturn\u001b[39;00m results\n",
      "File \u001b[0;32m/opt/tljh/user/lib/python3.9/site-packages/CADETProcess/optimization/optimizationProblem.py:345\u001b[0m, in \u001b[0;36mOptimizationProblem.untransforms.<locals>.wrapper\u001b[0;34m(self, x, untransform, *args, **kwargs)\u001b[0m\n\u001b[1;32m    342\u001b[0m \u001b[38;5;28;01mif\u001b[39;00m untransform:\n\u001b[1;32m    343\u001b[0m     x \u001b[38;5;241m=\u001b[39m \u001b[38;5;28mself\u001b[39m\u001b[38;5;241m.\u001b[39muntransform(x)\n\u001b[0;32m--> 345\u001b[0m \u001b[38;5;28;01mreturn\u001b[39;00m \u001b[43mfunc\u001b[49m\u001b[43m(\u001b[49m\u001b[38;5;28;43mself\u001b[39;49m\u001b[43m,\u001b[49m\u001b[43m \u001b[49m\u001b[43mx\u001b[49m\u001b[43m,\u001b[49m\u001b[43m \u001b[49m\u001b[38;5;241;43m*\u001b[39;49m\u001b[43margs\u001b[49m\u001b[43m,\u001b[49m\u001b[43m \u001b[49m\u001b[38;5;241;43m*\u001b[39;49m\u001b[38;5;241;43m*\u001b[39;49m\u001b[43mkwargs\u001b[49m\u001b[43m)\u001b[49m\n",
      "File \u001b[0;32m/opt/tljh/user/lib/python3.9/site-packages/CADETProcess/optimization/optimizationProblem.py:687\u001b[0m, in \u001b[0;36mOptimizationProblem.evaluate_objectives\u001b[0;34m(self, x, cache, cache_new, make_copy, force, return_cache_new)\u001b[0m\n\u001b[1;32m    685\u001b[0m \u001b[38;5;28;01mfor\u001b[39;00m objective \u001b[38;5;129;01min\u001b[39;00m \u001b[38;5;28mself\u001b[39m\u001b[38;5;241m.\u001b[39mobjectives:\n\u001b[1;32m    686\u001b[0m     \u001b[38;5;28;01mtry\u001b[39;00m:\n\u001b[0;32m--> 687\u001b[0m         value \u001b[38;5;241m=\u001b[39m \u001b[38;5;28;43mself\u001b[39;49m\u001b[38;5;241;43m.\u001b[39;49m\u001b[43m_evaluate\u001b[49m\u001b[43m(\u001b[49m\n\u001b[1;32m    688\u001b[0m \u001b[43m            \u001b[49m\u001b[43mx\u001b[49m\u001b[43m,\u001b[49m\u001b[43m \u001b[49m\u001b[43mobjective\u001b[49m\u001b[43m,\u001b[49m\u001b[43m \u001b[49m\u001b[43mcache\u001b[49m\u001b[43m,\u001b[49m\u001b[43m \u001b[49m\u001b[43mcache_new\u001b[49m\u001b[43m,\u001b[49m\u001b[43m \u001b[49m\u001b[43mmake_copy\u001b[49m\u001b[43m,\u001b[49m\u001b[43m \u001b[49m\u001b[43mforce\u001b[49m\u001b[43m,\u001b[49m\n\u001b[1;32m    689\u001b[0m \u001b[43m        \u001b[49m\u001b[43m)\u001b[49m\n\u001b[1;32m    690\u001b[0m         f \u001b[38;5;241m+\u001b[39m\u001b[38;5;241m=\u001b[39m value\n\u001b[1;32m    691\u001b[0m     \u001b[38;5;28;01mexcept\u001b[39;00m CADETProcessError:\n",
      "File \u001b[0;32m/opt/tljh/user/lib/python3.9/site-packages/CADETProcess/optimization/optimizationProblem.py:345\u001b[0m, in \u001b[0;36mOptimizationProblem.untransforms.<locals>.wrapper\u001b[0;34m(self, x, untransform, *args, **kwargs)\u001b[0m\n\u001b[1;32m    342\u001b[0m \u001b[38;5;28;01mif\u001b[39;00m untransform:\n\u001b[1;32m    343\u001b[0m     x \u001b[38;5;241m=\u001b[39m \u001b[38;5;28mself\u001b[39m\u001b[38;5;241m.\u001b[39muntransform(x)\n\u001b[0;32m--> 345\u001b[0m \u001b[38;5;28;01mreturn\u001b[39;00m \u001b[43mfunc\u001b[49m\u001b[43m(\u001b[49m\u001b[38;5;28;43mself\u001b[39;49m\u001b[43m,\u001b[49m\u001b[43m \u001b[49m\u001b[43mx\u001b[49m\u001b[43m,\u001b[49m\u001b[43m \u001b[49m\u001b[38;5;241;43m*\u001b[39;49m\u001b[43margs\u001b[49m\u001b[43m,\u001b[49m\u001b[43m \u001b[49m\u001b[38;5;241;43m*\u001b[39;49m\u001b[38;5;241;43m*\u001b[39;49m\u001b[43mkwargs\u001b[49m\u001b[43m)\u001b[49m\n",
      "File \u001b[0;32m/opt/tljh/user/lib/python3.9/site-packages/CADETProcess/optimization/optimizationProblem.py:1259\u001b[0m, in \u001b[0;36mOptimizationProblem._evaluate\u001b[0;34m(self, x, func, cache_prev, cache_new, make_copy, force, *args, **kwargs)\u001b[0m\n\u001b[1;32m   1256\u001b[0m \u001b[38;5;28;01melse\u001b[39;00m:\n\u001b[1;32m   1257\u001b[0m     inner_cache_new \u001b[38;5;241m=\u001b[39m \u001b[38;5;28;01mNone\u001b[39;00m\n\u001b[0;32m-> 1259\u001b[0m result \u001b[38;5;241m=\u001b[39m \u001b[38;5;28;43mself\u001b[39;49m\u001b[38;5;241;43m.\u001b[39;49m\u001b[43m_evaluate_inner\u001b[49m\u001b[43m(\u001b[49m\n\u001b[1;32m   1260\u001b[0m \u001b[43m    \u001b[49m\u001b[43meval_obj\u001b[49m\u001b[43m,\u001b[49m\u001b[43m \u001b[49m\u001b[43mfunc\u001b[49m\u001b[43m,\u001b[49m\u001b[43m \u001b[49m\u001b[43mrequires\u001b[49m\u001b[43m,\u001b[49m\n\u001b[1;32m   1261\u001b[0m \u001b[43m    \u001b[49m\u001b[43minner_cache_prev\u001b[49m\u001b[43m,\u001b[49m\n\u001b[1;32m   1262\u001b[0m \u001b[43m    \u001b[49m\u001b[43minner_cache_new\u001b[49m\u001b[43m,\u001b[49m\n\u001b[1;32m   1263\u001b[0m \u001b[43m    \u001b[49m\u001b[43mforce\u001b[49m\u001b[43m,\u001b[49m\u001b[43m \u001b[49m\u001b[43mx\u001b[49m\u001b[38;5;241;43m=\u001b[39;49m\u001b[43mx\u001b[49m\u001b[43m,\u001b[49m\n\u001b[1;32m   1264\u001b[0m \u001b[43m    \u001b[49m\u001b[38;5;241;43m*\u001b[39;49m\u001b[43margs\u001b[49m\u001b[43m,\u001b[49m\u001b[43m \u001b[49m\u001b[38;5;241;43m*\u001b[39;49m\u001b[38;5;241;43m*\u001b[39;49m\u001b[43mkwargs\u001b[49m\n\u001b[1;32m   1265\u001b[0m \u001b[43m\u001b[49m\u001b[43m)\u001b[49m\n\u001b[1;32m   1266\u001b[0m results \u001b[38;5;241m+\u001b[39m\u001b[38;5;241m=\u001b[39m result\n\u001b[1;32m   1268\u001b[0m \u001b[38;5;28;01mif\u001b[39;00m cache_new \u001b[38;5;129;01mis\u001b[39;00m \u001b[38;5;129;01mnot\u001b[39;00m \u001b[38;5;28;01mNone\u001b[39;00m:\n",
      "File \u001b[0;32m/opt/tljh/user/lib/python3.9/site-packages/CADETProcess/optimization/optimizationProblem.py:1362\u001b[0m, in \u001b[0;36mOptimizationProblem._evaluate_inner\u001b[0;34m(self, request, func, requires, cache_prev, cache_new, force, x, *args, **kwargs)\u001b[0m\n\u001b[1;32m   1356\u001b[0m     step\u001b[38;5;241m.\u001b[39mevaluate(\n\u001b[1;32m   1357\u001b[0m         current_request,\n\u001b[1;32m   1358\u001b[0m         x\u001b[38;5;241m=\u001b[39mx, evaluation_object\u001b[38;5;241m=\u001b[39mrequest,\n\u001b[1;32m   1359\u001b[0m         \u001b[38;5;241m*\u001b[39margs, \u001b[38;5;241m*\u001b[39m\u001b[38;5;241m*\u001b[39mkwargs\n\u001b[1;32m   1360\u001b[0m     )\n\u001b[1;32m   1361\u001b[0m \u001b[38;5;28;01melse\u001b[39;00m:\n\u001b[0;32m-> 1362\u001b[0m     result \u001b[38;5;241m=\u001b[39m \u001b[43mstep\u001b[49m\u001b[38;5;241;43m.\u001b[39;49m\u001b[43mevaluate\u001b[49m\u001b[43m(\u001b[49m\u001b[43mcurrent_request\u001b[49m\u001b[43m,\u001b[49m\u001b[43m \u001b[49m\u001b[38;5;241;43m*\u001b[39;49m\u001b[43margs\u001b[49m\u001b[43m,\u001b[49m\u001b[43m \u001b[49m\u001b[38;5;241;43m*\u001b[39;49m\u001b[38;5;241;43m*\u001b[39;49m\u001b[43mkwargs\u001b[49m\u001b[43m)\u001b[49m\n\u001b[1;32m   1363\u001b[0m     \u001b[38;5;28;01mif\u001b[39;00m cache_new \u001b[38;5;129;01mis\u001b[39;00m \u001b[38;5;129;01mnot\u001b[39;00m \u001b[38;5;28;01mNone\u001b[39;00m:\n\u001b[1;32m   1364\u001b[0m         cache_new[\u001b[38;5;28mstr\u001b[39m(step)][\u001b[38;5;28mtuple\u001b[39m(x)] \u001b[38;5;241m=\u001b[39m result\n",
      "File \u001b[0;32m/opt/tljh/user/lib/python3.9/site-packages/CADETProcess/optimization/optimizationProblem.py:2393\u001b[0m, in \u001b[0;36mEvaluator.__call__\u001b[0;34m(self, request)\u001b[0m\n\u001b[1;32m   2390\u001b[0m \u001b[38;5;28;01melse\u001b[39;00m:\n\u001b[1;32m   2391\u001b[0m     kwargs \u001b[38;5;241m=\u001b[39m \u001b[38;5;28mself\u001b[39m\u001b[38;5;241m.\u001b[39mkwargs\n\u001b[0;32m-> 2393\u001b[0m results \u001b[38;5;241m=\u001b[39m \u001b[38;5;28;43mself\u001b[39;49m\u001b[38;5;241;43m.\u001b[39;49m\u001b[43mevaluator\u001b[49m\u001b[43m(\u001b[49m\u001b[43mrequest\u001b[49m\u001b[43m,\u001b[49m\u001b[43m \u001b[49m\u001b[38;5;241;43m*\u001b[39;49m\u001b[43margs\u001b[49m\u001b[43m,\u001b[49m\u001b[43m \u001b[49m\u001b[38;5;241;43m*\u001b[39;49m\u001b[38;5;241;43m*\u001b[39;49m\u001b[43mkwargs\u001b[49m\u001b[43m)\u001b[49m\n\u001b[1;32m   2395\u001b[0m \u001b[38;5;28;01mreturn\u001b[39;00m results\n",
      "File \u001b[0;32m/opt/tljh/user/lib/python3.9/site-packages/CADETProcess/simulator/simulator.py:178\u001b[0m, in \u001b[0;36mSimulatorBase.simulate\u001b[0;34m(self, process, previous_results, **kwargs)\u001b[0m\n\u001b[1;32m    174\u001b[0m     results \u001b[38;5;241m=\u001b[39m \u001b[38;5;28mself\u001b[39m\u001b[38;5;241m.\u001b[39msimulate_n_cycles(\n\u001b[1;32m    175\u001b[0m         process, \u001b[38;5;28mself\u001b[39m\u001b[38;5;241m.\u001b[39mn_cycles, previous_results, \u001b[38;5;241m*\u001b[39m\u001b[38;5;241m*\u001b[39mkwargs\n\u001b[1;32m    176\u001b[0m     )\n\u001b[1;32m    177\u001b[0m \u001b[38;5;28;01melse\u001b[39;00m:\n\u001b[0;32m--> 178\u001b[0m     results \u001b[38;5;241m=\u001b[39m \u001b[38;5;28;43mself\u001b[39;49m\u001b[38;5;241;43m.\u001b[39;49m\u001b[43msimulate_to_stationarity\u001b[49m\u001b[43m(\u001b[49m\n\u001b[1;32m    179\u001b[0m \u001b[43m        \u001b[49m\u001b[43mprocess\u001b[49m\u001b[43m,\u001b[49m\u001b[43m \u001b[49m\u001b[43mprevious_results\u001b[49m\u001b[43m,\u001b[49m\u001b[43m \u001b[49m\u001b[38;5;241;43m*\u001b[39;49m\u001b[38;5;241;43m*\u001b[39;49m\u001b[43mkwargs\u001b[49m\n\u001b[1;32m    180\u001b[0m \u001b[43m    \u001b[49m\u001b[43m)\u001b[49m\n\u001b[1;32m    181\u001b[0m process\u001b[38;5;241m.\u001b[39mlock \u001b[38;5;241m=\u001b[39m \u001b[38;5;28;01mFalse\u001b[39;00m\n\u001b[1;32m    183\u001b[0m \u001b[38;5;28;01mreturn\u001b[39;00m results\n",
      "File \u001b[0;32m/opt/tljh/user/lib/python3.9/site-packages/CADETProcess/log.py:80\u001b[0m, in \u001b[0;36mlog_time.<locals>.log_time_decorator.<locals>.wrapper\u001b[0;34m(*args, **kwargs)\u001b[0m\n\u001b[1;32m     77\u001b[0m \u001b[38;5;129m@wraps\u001b[39m(function)\n\u001b[1;32m     78\u001b[0m \u001b[38;5;28;01mdef\u001b[39;00m \u001b[38;5;21mwrapper\u001b[39m(\u001b[38;5;241m*\u001b[39margs, \u001b[38;5;241m*\u001b[39m\u001b[38;5;241m*\u001b[39mkwargs):\n\u001b[1;32m     79\u001b[0m     start \u001b[38;5;241m=\u001b[39m time\u001b[38;5;241m.\u001b[39mtime()\n\u001b[0;32m---> 80\u001b[0m     result \u001b[38;5;241m=\u001b[39m \u001b[43mfunction\u001b[49m\u001b[43m(\u001b[49m\u001b[38;5;241;43m*\u001b[39;49m\u001b[43margs\u001b[49m\u001b[43m,\u001b[49m\u001b[43m \u001b[49m\u001b[38;5;241;43m*\u001b[39;49m\u001b[38;5;241;43m*\u001b[39;49m\u001b[43mkwargs\u001b[49m\u001b[43m)\u001b[49m\n\u001b[1;32m     81\u001b[0m     elapsed \u001b[38;5;241m=\u001b[39m time\u001b[38;5;241m.\u001b[39mtime() \u001b[38;5;241m-\u001b[39m start\n\u001b[1;32m     82\u001b[0m     logger \u001b[38;5;241m=\u001b[39m get_logger(logger_name, level\u001b[38;5;241m=\u001b[39m\u001b[38;5;28;01mNone\u001b[39;00m)\n",
      "File \u001b[0;32m/opt/tljh/user/lib/python3.9/site-packages/CADETProcess/log.py:131\u001b[0m, in \u001b[0;36mlog_results.<locals>.log_results_decorator.<locals>.wrapper\u001b[0;34m(*args, **kwargs)\u001b[0m\n\u001b[1;32m    127\u001b[0m logger \u001b[38;5;241m=\u001b[39m get_logger(logger_name, level\u001b[38;5;241m=\u001b[39m\u001b[38;5;28;01mNone\u001b[39;00m)\n\u001b[1;32m    129\u001b[0m logger\u001b[38;5;241m.\u001b[39minfo(\u001b[38;5;124m'\u001b[39m\u001b[38;5;132;01m{}\u001b[39;00m\u001b[38;5;124m was called with \u001b[39m\u001b[38;5;132;01m{}\u001b[39;00m\u001b[38;5;124m, \u001b[39m\u001b[38;5;132;01m{}\u001b[39;00m\u001b[38;5;124m'\u001b[39m\u001b[38;5;241m.\u001b[39mformat(\n\u001b[1;32m    130\u001b[0m         function, \u001b[38;5;241m*\u001b[39margs, \u001b[38;5;241m*\u001b[39m\u001b[38;5;241m*\u001b[39mkwargs))\n\u001b[0;32m--> 131\u001b[0m results \u001b[38;5;241m=\u001b[39m \u001b[43mfunction\u001b[49m\u001b[43m(\u001b[49m\u001b[38;5;241;43m*\u001b[39;49m\u001b[43margs\u001b[49m\u001b[43m,\u001b[49m\u001b[43m \u001b[49m\u001b[38;5;241;43m*\u001b[39;49m\u001b[38;5;241;43m*\u001b[39;49m\u001b[43mkwargs\u001b[49m\u001b[43m)\u001b[49m\n\u001b[1;32m    132\u001b[0m logger\u001b[38;5;241m.\u001b[39minfo(\u001b[38;5;124mf\u001b[39m\u001b[38;5;124m'\u001b[39m\u001b[38;5;124mResults: \u001b[39m\u001b[38;5;132;01m{\u001b[39;00mresults\u001b[38;5;132;01m}\u001b[39;00m\u001b[38;5;124m'\u001b[39m)\n\u001b[1;32m    134\u001b[0m \u001b[38;5;28;01mreturn\u001b[39;00m results\n",
      "File \u001b[0;32m/opt/tljh/user/lib/python3.9/site-packages/CADETProcess/log.py:102\u001b[0m, in \u001b[0;36mlog_exceptions.<locals>.log_exception_decorator.<locals>.wrapper\u001b[0;34m(*args, **kwargs)\u001b[0m\n\u001b[1;32m    100\u001b[0m logger \u001b[38;5;241m=\u001b[39m get_logger(logger_name, level\u001b[38;5;241m=\u001b[39m\u001b[38;5;28;01mNone\u001b[39;00m)\n\u001b[1;32m    101\u001b[0m \u001b[38;5;28;01mtry\u001b[39;00m:\n\u001b[0;32m--> 102\u001b[0m     \u001b[38;5;28;01mreturn\u001b[39;00m \u001b[43mfunction\u001b[49m\u001b[43m(\u001b[49m\u001b[38;5;241;43m*\u001b[39;49m\u001b[43margs\u001b[49m\u001b[43m,\u001b[49m\u001b[43m \u001b[49m\u001b[38;5;241;43m*\u001b[39;49m\u001b[38;5;241;43m*\u001b[39;49m\u001b[43mkwargs\u001b[49m\u001b[43m)\u001b[49m\n\u001b[1;32m    103\u001b[0m \u001b[38;5;28;01mexcept\u001b[39;00m:\n\u001b[1;32m    104\u001b[0m     \u001b[38;5;66;03m# log the exception\u001b[39;00m\n\u001b[1;32m    105\u001b[0m     err \u001b[38;5;241m=\u001b[39m \u001b[38;5;124m\"\u001b[39m\u001b[38;5;124mThere was an exception in \u001b[39m\u001b[38;5;124m\"\u001b[39m\n",
      "File \u001b[0;32m/opt/tljh/user/lib/python3.9/site-packages/CADETProcess/simulator/simulator.py:280\u001b[0m, in \u001b[0;36mSimulatorBase.simulate_to_stationarity\u001b[0;34m(self, process, previous_results, **kwargs)\u001b[0m\n\u001b[1;32m    277\u001b[0m \u001b[38;5;28;01mif\u001b[39;00m previous_results \u001b[38;5;129;01mis\u001b[39;00m \u001b[38;5;129;01mnot\u001b[39;00m \u001b[38;5;28;01mNone\u001b[39;00m:\n\u001b[1;32m    278\u001b[0m     \u001b[38;5;28mself\u001b[39m\u001b[38;5;241m.\u001b[39mset_state_from_results(process, previous_results)\n\u001b[0;32m--> 280\u001b[0m results \u001b[38;5;241m=\u001b[39m \u001b[38;5;28;43mself\u001b[39;49m\u001b[38;5;241;43m.\u001b[39;49m\u001b[43mrun\u001b[49m\u001b[43m(\u001b[49m\u001b[43mprocess\u001b[49m\u001b[43m,\u001b[49m\u001b[43m \u001b[49m\u001b[38;5;241;43m*\u001b[39;49m\u001b[38;5;241;43m*\u001b[39;49m\u001b[43mkwargs\u001b[49m\u001b[43m)\u001b[49m\n\u001b[1;32m    282\u001b[0m \u001b[38;5;28;01mif\u001b[39;00m previous_results \u001b[38;5;129;01mis\u001b[39;00m \u001b[38;5;28;01mNone\u001b[39;00m:\n\u001b[1;32m    283\u001b[0m     previous_results \u001b[38;5;241m=\u001b[39m results\n",
      "File \u001b[0;32m/opt/tljh/user/lib/python3.9/site-packages/CADETProcess/simulator/cadetAdapter.py:259\u001b[0m, in \u001b[0;36mCadet.run\u001b[0;34m(self, process, cadet, file_path)\u001b[0m\n\u001b[1;32m    257\u001b[0m \u001b[38;5;28;01mtry\u001b[39;00m:\n\u001b[1;32m    258\u001b[0m     start \u001b[38;5;241m=\u001b[39m time\u001b[38;5;241m.\u001b[39mtime()\n\u001b[0;32m--> 259\u001b[0m     return_information \u001b[38;5;241m=\u001b[39m \u001b[43mcadet\u001b[49m\u001b[38;5;241;43m.\u001b[39;49m\u001b[43mrun_load\u001b[49m\u001b[43m(\u001b[49m\u001b[43mtimeout\u001b[49m\u001b[38;5;241;43m=\u001b[39;49m\u001b[38;5;28;43mself\u001b[39;49m\u001b[38;5;241;43m.\u001b[39;49m\u001b[43mtimeout\u001b[49m\u001b[43m)\u001b[49m\n\u001b[1;32m    260\u001b[0m     elapsed \u001b[38;5;241m=\u001b[39m time\u001b[38;5;241m.\u001b[39mtime() \u001b[38;5;241m-\u001b[39m start\n\u001b[1;32m    261\u001b[0m \u001b[38;5;28;01mexcept\u001b[39;00m TimeoutExpired:\n",
      "File \u001b[0;32m/opt/tljh/user/lib/python3.9/site-packages/cadet/cadet.py:218\u001b[0m, in \u001b[0;36mCadet.run_load\u001b[0;34m(self, timeout, check, clear)\u001b[0m\n\u001b[1;32m    217\u001b[0m \u001b[38;5;28;01mdef\u001b[39;00m \u001b[38;5;21mrun_load\u001b[39m(\u001b[38;5;28mself\u001b[39m, timeout \u001b[38;5;241m=\u001b[39m \u001b[38;5;28;01mNone\u001b[39;00m, check\u001b[38;5;241m=\u001b[39m\u001b[38;5;28;01mNone\u001b[39;00m, clear\u001b[38;5;241m=\u001b[39m\u001b[38;5;28;01mTrue\u001b[39;00m):\n\u001b[0;32m--> 218\u001b[0m     data \u001b[38;5;241m=\u001b[39m \u001b[38;5;28;43mself\u001b[39;49m\u001b[38;5;241;43m.\u001b[39;49m\u001b[43mcadet_runner\u001b[49m\u001b[38;5;241;43m.\u001b[39;49m\u001b[43mrun\u001b[49m\u001b[43m(\u001b[49m\u001b[43msimulation\u001b[49m\u001b[38;5;241;43m=\u001b[39;49m\u001b[38;5;28;43mself\u001b[39;49m\u001b[38;5;241;43m.\u001b[39;49m\u001b[43mroot\u001b[49m\u001b[38;5;241;43m.\u001b[39;49m\u001b[43minput\u001b[49m\u001b[43m,\u001b[49m\u001b[43m \u001b[49m\u001b[43mfilename\u001b[49m\u001b[38;5;241;43m=\u001b[39;49m\u001b[38;5;28;43mself\u001b[39;49m\u001b[38;5;241;43m.\u001b[39;49m\u001b[43mfilename\u001b[49m\u001b[43m,\u001b[49m\u001b[43m \u001b[49m\u001b[43mtimeout\u001b[49m\u001b[38;5;241;43m=\u001b[39;49m\u001b[43mtimeout\u001b[49m\u001b[43m,\u001b[49m\u001b[43m \u001b[49m\u001b[43mcheck\u001b[49m\u001b[38;5;241;43m=\u001b[39;49m\u001b[43mcheck\u001b[49m\u001b[43m)\u001b[49m\n\u001b[1;32m    219\u001b[0m     \u001b[38;5;66;03m#self.return_information = data\u001b[39;00m\n\u001b[1;32m    220\u001b[0m     \u001b[38;5;28mself\u001b[39m\u001b[38;5;241m.\u001b[39mload_results()\n",
      "File \u001b[0;32m/opt/tljh/user/lib/python3.9/site-packages/cadet/cadet.py:237\u001b[0m, in \u001b[0;36mCadetFile.run\u001b[0;34m(self, filename, simulation, timeout, check)\u001b[0m\n\u001b[1;32m    235\u001b[0m \u001b[38;5;28;01mdef\u001b[39;00m \u001b[38;5;21mrun\u001b[39m(\u001b[38;5;28mself\u001b[39m, filename \u001b[38;5;241m=\u001b[39m \u001b[38;5;28;01mNone\u001b[39;00m, simulation\u001b[38;5;241m=\u001b[39m\u001b[38;5;28;01mNone\u001b[39;00m, timeout \u001b[38;5;241m=\u001b[39m \u001b[38;5;28;01mNone\u001b[39;00m, check\u001b[38;5;241m=\u001b[39m\u001b[38;5;28;01mNone\u001b[39;00m):\n\u001b[1;32m    236\u001b[0m     \u001b[38;5;28;01mif\u001b[39;00m filename \u001b[38;5;129;01mis\u001b[39;00m \u001b[38;5;129;01mnot\u001b[39;00m \u001b[38;5;28;01mNone\u001b[39;00m:\n\u001b[0;32m--> 237\u001b[0m         data \u001b[38;5;241m=\u001b[39m \u001b[43msubprocess\u001b[49m\u001b[38;5;241;43m.\u001b[39;49m\u001b[43mrun\u001b[49m\u001b[43m(\u001b[49m\u001b[43m[\u001b[49m\u001b[38;5;28;43mself\u001b[39;49m\u001b[38;5;241;43m.\u001b[39;49m\u001b[43mcadet_path\u001b[49m\u001b[43m,\u001b[49m\u001b[43m \u001b[49m\u001b[43mfilename\u001b[49m\u001b[43m]\u001b[49m\u001b[43m,\u001b[49m\u001b[43m \u001b[49m\u001b[43mtimeout\u001b[49m\u001b[43m \u001b[49m\u001b[38;5;241;43m=\u001b[39;49m\u001b[43m \u001b[49m\u001b[43mtimeout\u001b[49m\u001b[43m,\u001b[49m\u001b[43m \u001b[49m\u001b[43mcheck\u001b[49m\u001b[38;5;241;43m=\u001b[39;49m\u001b[43mcheck\u001b[49m\u001b[43m,\u001b[49m\u001b[43m \u001b[49m\u001b[43mcapture_output\u001b[49m\u001b[38;5;241;43m=\u001b[39;49m\u001b[38;5;28;43;01mTrue\u001b[39;49;00m\u001b[43m)\u001b[49m\n\u001b[1;32m    238\u001b[0m         \u001b[38;5;28;01mreturn\u001b[39;00m data\n\u001b[1;32m    239\u001b[0m     \u001b[38;5;28;01melse\u001b[39;00m:\n",
      "File \u001b[0;32m/opt/tljh/user/lib/python3.9/subprocess.py:507\u001b[0m, in \u001b[0;36mrun\u001b[0;34m(input, capture_output, timeout, check, *popenargs, **kwargs)\u001b[0m\n\u001b[1;32m    505\u001b[0m \u001b[38;5;28;01mwith\u001b[39;00m Popen(\u001b[38;5;241m*\u001b[39mpopenargs, \u001b[38;5;241m*\u001b[39m\u001b[38;5;241m*\u001b[39mkwargs) \u001b[38;5;28;01mas\u001b[39;00m process:\n\u001b[1;32m    506\u001b[0m     \u001b[38;5;28;01mtry\u001b[39;00m:\n\u001b[0;32m--> 507\u001b[0m         stdout, stderr \u001b[38;5;241m=\u001b[39m \u001b[43mprocess\u001b[49m\u001b[38;5;241;43m.\u001b[39;49m\u001b[43mcommunicate\u001b[49m\u001b[43m(\u001b[49m\u001b[38;5;28;43minput\u001b[39;49m\u001b[43m,\u001b[49m\u001b[43m \u001b[49m\u001b[43mtimeout\u001b[49m\u001b[38;5;241;43m=\u001b[39;49m\u001b[43mtimeout\u001b[49m\u001b[43m)\u001b[49m\n\u001b[1;32m    508\u001b[0m     \u001b[38;5;28;01mexcept\u001b[39;00m TimeoutExpired \u001b[38;5;28;01mas\u001b[39;00m exc:\n\u001b[1;32m    509\u001b[0m         process\u001b[38;5;241m.\u001b[39mkill()\n",
      "File \u001b[0;32m/opt/tljh/user/lib/python3.9/subprocess.py:1134\u001b[0m, in \u001b[0;36mPopen.communicate\u001b[0;34m(self, input, timeout)\u001b[0m\n\u001b[1;32m   1131\u001b[0m     endtime \u001b[38;5;241m=\u001b[39m \u001b[38;5;28;01mNone\u001b[39;00m\n\u001b[1;32m   1133\u001b[0m \u001b[38;5;28;01mtry\u001b[39;00m:\n\u001b[0;32m-> 1134\u001b[0m     stdout, stderr \u001b[38;5;241m=\u001b[39m \u001b[38;5;28;43mself\u001b[39;49m\u001b[38;5;241;43m.\u001b[39;49m\u001b[43m_communicate\u001b[49m\u001b[43m(\u001b[49m\u001b[38;5;28;43minput\u001b[39;49m\u001b[43m,\u001b[49m\u001b[43m \u001b[49m\u001b[43mendtime\u001b[49m\u001b[43m,\u001b[49m\u001b[43m \u001b[49m\u001b[43mtimeout\u001b[49m\u001b[43m)\u001b[49m\n\u001b[1;32m   1135\u001b[0m \u001b[38;5;28;01mexcept\u001b[39;00m \u001b[38;5;167;01mKeyboardInterrupt\u001b[39;00m:\n\u001b[1;32m   1136\u001b[0m     \u001b[38;5;66;03m# https://bugs.python.org/issue25942\u001b[39;00m\n\u001b[1;32m   1137\u001b[0m     \u001b[38;5;66;03m# See the detailed comment in .wait().\u001b[39;00m\n\u001b[1;32m   1138\u001b[0m     \u001b[38;5;28;01mif\u001b[39;00m timeout \u001b[38;5;129;01mis\u001b[39;00m \u001b[38;5;129;01mnot\u001b[39;00m \u001b[38;5;28;01mNone\u001b[39;00m:\n",
      "File \u001b[0;32m/opt/tljh/user/lib/python3.9/subprocess.py:1979\u001b[0m, in \u001b[0;36mPopen._communicate\u001b[0;34m(self, input, endtime, orig_timeout)\u001b[0m\n\u001b[1;32m   1972\u001b[0m     \u001b[38;5;28mself\u001b[39m\u001b[38;5;241m.\u001b[39m_check_timeout(endtime, orig_timeout,\n\u001b[1;32m   1973\u001b[0m                         stdout, stderr,\n\u001b[1;32m   1974\u001b[0m                         skip_check_and_raise\u001b[38;5;241m=\u001b[39m\u001b[38;5;28;01mTrue\u001b[39;00m)\n\u001b[1;32m   1975\u001b[0m     \u001b[38;5;28;01mraise\u001b[39;00m \u001b[38;5;167;01mRuntimeError\u001b[39;00m(  \u001b[38;5;66;03m# Impossible :)\u001b[39;00m\n\u001b[1;32m   1976\u001b[0m         \u001b[38;5;124m'\u001b[39m\u001b[38;5;124m_check_timeout(..., skip_check_and_raise=True) \u001b[39m\u001b[38;5;124m'\u001b[39m\n\u001b[1;32m   1977\u001b[0m         \u001b[38;5;124m'\u001b[39m\u001b[38;5;124mfailed to raise TimeoutExpired.\u001b[39m\u001b[38;5;124m'\u001b[39m)\n\u001b[0;32m-> 1979\u001b[0m ready \u001b[38;5;241m=\u001b[39m \u001b[43mselector\u001b[49m\u001b[38;5;241;43m.\u001b[39;49m\u001b[43mselect\u001b[49m\u001b[43m(\u001b[49m\u001b[43mtimeout\u001b[49m\u001b[43m)\u001b[49m\n\u001b[1;32m   1980\u001b[0m \u001b[38;5;28mself\u001b[39m\u001b[38;5;241m.\u001b[39m_check_timeout(endtime, orig_timeout, stdout, stderr)\n\u001b[1;32m   1982\u001b[0m \u001b[38;5;66;03m# XXX Rewrite these to use non-blocking I/O on the file\u001b[39;00m\n\u001b[1;32m   1983\u001b[0m \u001b[38;5;66;03m# objects; they are no longer using C stdio!\u001b[39;00m\n",
      "File \u001b[0;32m/opt/tljh/user/lib/python3.9/selectors.py:416\u001b[0m, in \u001b[0;36m_PollLikeSelector.select\u001b[0;34m(self, timeout)\u001b[0m\n\u001b[1;32m    414\u001b[0m ready \u001b[38;5;241m=\u001b[39m []\n\u001b[1;32m    415\u001b[0m \u001b[38;5;28;01mtry\u001b[39;00m:\n\u001b[0;32m--> 416\u001b[0m     fd_event_list \u001b[38;5;241m=\u001b[39m \u001b[38;5;28;43mself\u001b[39;49m\u001b[38;5;241;43m.\u001b[39;49m\u001b[43m_selector\u001b[49m\u001b[38;5;241;43m.\u001b[39;49m\u001b[43mpoll\u001b[49m\u001b[43m(\u001b[49m\u001b[43mtimeout\u001b[49m\u001b[43m)\u001b[49m\n\u001b[1;32m    417\u001b[0m \u001b[38;5;28;01mexcept\u001b[39;00m \u001b[38;5;167;01mInterruptedError\u001b[39;00m:\n\u001b[1;32m    418\u001b[0m     \u001b[38;5;28;01mreturn\u001b[39;00m ready\n",
      "\u001b[0;31mKeyboardInterrupt\u001b[0m: "
     ]
    }
   ],
   "source": [
    "optimization_results = optimizer.optimize(\n",
    "    optimization_problem,\n",
    "    use_checkpoint=True,\n",
    ")"
   ]
  },
  {
   "cell_type": "markdown",
   "id": "0100fdb0",
   "metadata": {},
   "source": [
    "In the results, the information about the optimization results are stored such as best individual etc."
   ]
  }
 ],
 "metadata": {
  "kernelspec": {
   "display_name": "Python 3 (ipykernel)",
   "language": "python",
   "name": "python3"
  },
  "language_info": {
   "codemirror_mode": {
    "name": "ipython",
    "version": 3
   },
   "file_extension": ".py",
   "mimetype": "text/x-python",
   "name": "python",
   "nbconvert_exporter": "python",
   "pygments_lexer": "ipython3",
   "version": "3.9.13"
  },
  "source_map": [
   10,
   15,
   34,
   38,
   45,
   50,
   52,
   60,
   63,
   78,
   80,
   100,
   106,
   111,
   116,
   120,
   127,
   131,
   134,
   141,
   148,
   155,
   160
  ]
 },
 "nbformat": 4,
 "nbformat_minor": 5
}
