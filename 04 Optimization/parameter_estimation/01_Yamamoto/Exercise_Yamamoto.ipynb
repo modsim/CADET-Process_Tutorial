{
 "cells": [
  {
   "cell_type": "markdown",
   "id": "7f9c3d46-d2f9-44e7-bafe-fb0bab073ead",
   "metadata": {},
   "source": [
    "## Exercise Yamamoto Method\n",
    "\n",
    "In this exercise the Yamamoto method will be applied and used as model parameter for the linear region of the steric mass action isotherm."
   ]
  },
  {
   "cell_type": "markdown",
   "id": "817ae06d-1e08-4e79-ab10-63adea454857",
   "metadata": {},
   "source": [
    "Import the data given in `./experiments/three_proteins` using the following helper function.\n",
    "Then, visualize the data."
   ]
  },
  {
   "cell_type": "code",
   "execution_count": null,
   "id": "db8c41db-c829-47e0-b8b4-2e9b9cc8b28d",
   "metadata": {},
   "outputs": [],
   "source": []
  },
  {
   "cell_type": "code",
   "execution_count": null,
   "id": "e90383e8-6284-4786-88cd-7004f8808083",
   "metadata": {},
   "outputs": [],
   "source": []
  },
  {
   "cell_type": "code",
   "execution_count": null,
   "id": "45ce0c77-4df4-4564-b0c6-302ad7c4f1df",
   "metadata": {},
   "outputs": [],
   "source": []
  },
  {
   "cell_type": "markdown",
   "id": "ebc16e55-ec76-4d53-bd97-acd4038f2d67",
   "metadata": {},
   "source": [
    "Define the parameters given in the table below as variables.\n",
    "\n",
    "Consider the following parameters:\n",
    "- length: $0.1~m$\n",
    "- diameter: $7.7~mm$\n",
    "- bed porosity: $0.36$\n",
    "- particle radius: $34 \\cdot 10^{-6}~m$\n",
    "- particle porosity: $0.85$"
   ]
  },
  {
   "cell_type": "code",
   "execution_count": null,
   "id": "c52c516b-b9cc-4896-93b3-b0d7ae4a396d",
   "metadata": {},
   "outputs": [],
   "source": []
  },
  {
   "cell_type": "code",
   "execution_count": null,
   "id": "713eb17b-fb4c-41fa-846b-792b35c6bb56",
   "metadata": {},
   "outputs": [],
   "source": []
  },
  {
   "cell_type": "markdown",
   "id": "6f3be0d4-806f-4a19-badc-5aab6941d243",
   "metadata": {},
   "source": [
    "Apply the Yamamoto method and save the return of the method in a variable. Print the characteristic charge and the equilibrium constant for all proteins in the system."
   ]
  },
  {
   "cell_type": "code",
   "execution_count": null,
   "id": "a91b5993-dde7-4037-b91d-4482b722f94a",
   "metadata": {},
   "outputs": [],
   "source": []
  },
  {
   "cell_type": "markdown",
   "id": "a02b1031-b894-4cef-93b4-88ae7b888256",
   "metadata": {},
   "source": [
    "Visualize the results of the parameter estimation and check if the results are a good estimate of the experiments."
   ]
  },
  {
   "cell_type": "code",
   "execution_count": null,
   "id": "f52a27fd-ec1c-4524-bd61-ca7763f99f69",
   "metadata": {},
   "outputs": [],
   "source": []
  },
  {
   "cell_type": "markdown",
   "id": "ab9c7409-4745-42c9-853c-d7c667ee089f",
   "metadata": {},
   "source": [
    "It can be recognized that at least one experiment is not in a good alignment with the found parameter.\n",
    "Check the output of the parameter estimation and decide which experiment to neglect in the estimation. "
   ]
  },
  {
   "cell_type": "code",
   "execution_count": null,
   "id": "19d5e999-9a50-412b-99e4-cfb228e9c453",
   "metadata": {},
   "outputs": [],
   "source": []
  },
  {
   "cell_type": "markdown",
   "id": "9aae97fd-914b-4175-956f-d2984f4a041e",
   "metadata": {},
   "source": [
    "Viewing the data, the third entry related to the third experiment does not fit into the ascending sequence for the peak salt concentration. Remove the third experiment from the parameter estimation and redo the estimation. Also, visualize the results."
   ]
  },
  {
   "cell_type": "code",
   "execution_count": null,
   "id": "578bef86-08c5-4915-abdb-454552d41ecc",
   "metadata": {},
   "outputs": [],
   "source": []
  },
  {
   "cell_type": "code",
   "execution_count": null,
   "id": "feb72772-49a7-452f-bec4-f71e3f7ff272",
   "metadata": {},
   "outputs": [],
   "source": []
  },
  {
   "cell_type": "markdown",
   "id": "731f4674-09ca-47f0-be2b-39579f1e66f4",
   "metadata": {
    "tags": []
   },
   "source": [
    "# Bonus Task\n",
    "\n",
    "Try to build a simple model which produces the same results as the `comparison` method above. The model should consist of an inlet, the general rate model and an outlet. Use the values specified in the tables above.\n",
    "\n",
    "Keep in mind the following steps for creating a model:\n",
    "1. Import the needed parts from CADET-Process\n",
    "2. Specify the component system\n",
    "3. Specify the binding\n",
    "4. Specify the units\n",
    "5. Construct the flow sheet\n",
    "6. Construct the process\n",
    "7. Simulation and plotting\n",
    "8. Comparison to experiment"
   ]
  },
  {
   "cell_type": "markdown",
   "id": "6eb6fd19-6045-46f6-ab49-4e1f1621acb4",
   "metadata": {},
   "source": [
    "### 1. Import the needed parts from CADET-Process"
   ]
  },
  {
   "cell_type": "code",
   "execution_count": null,
   "id": "66c329dc-e1d8-4842-9c1a-025904fef085",
   "metadata": {},
   "outputs": [],
   "source": []
  },
  {
   "cell_type": "markdown",
   "id": "e460cfd9-7ecf-4e86-9e48-e8d7fb58d42d",
   "metadata": {},
   "source": [
    "### 2. Specify the component system"
   ]
  },
  {
   "cell_type": "code",
   "execution_count": null,
   "id": "1d97e1a6-89cf-4d72-9f7d-d0eae213dd35",
   "metadata": {},
   "outputs": [],
   "source": []
  },
  {
   "cell_type": "markdown",
   "id": "6b523f2a-be53-4eba-8c0b-95c8d4d21711",
   "metadata": {},
   "source": [
    "### 3. Specify the Binding"
   ]
  },
  {
   "cell_type": "code",
   "execution_count": null,
   "id": "5fa7cc81-d33b-472f-bc48-cd905b3e3f4e",
   "metadata": {},
   "outputs": [],
   "source": []
  },
  {
   "cell_type": "markdown",
   "id": "7ca8513e-d62c-4d3c-829b-d6ceb29c1466",
   "metadata": {},
   "source": [
    "### 4. Specify the units"
   ]
  },
  {
   "cell_type": "code",
   "execution_count": null,
   "id": "ee1bac89-75ef-4aea-a88d-096613cd7988",
   "metadata": {},
   "outputs": [],
   "source": []
  },
  {
   "cell_type": "markdown",
   "id": "e3324881-c303-439b-b6f4-94fee89afe68",
   "metadata": {},
   "source": [
    "### 5. Construct the flow sheet"
   ]
  },
  {
   "cell_type": "code",
   "execution_count": null,
   "id": "8eefc206-d420-4fc0-bf42-1eb8ba416aa2",
   "metadata": {},
   "outputs": [],
   "source": []
  },
  {
   "cell_type": "markdown",
   "id": "6c9b2e55-6da0-4243-9a64-19753dd3ed31",
   "metadata": {},
   "source": [
    "### 6. Construct the process"
   ]
  },
  {
   "cell_type": "code",
   "execution_count": null,
   "id": "7ea961e6-4f62-4ecd-bd34-102b3a2797d1",
   "metadata": {},
   "outputs": [],
   "source": []
  },
  {
   "cell_type": "markdown",
   "id": "602763d9-c246-4796-ac84-8f40740b5e9f",
   "metadata": {},
   "source": [
    "### 7. Simulation and plotting"
   ]
  },
  {
   "cell_type": "code",
   "execution_count": null,
   "id": "df62de5f-1306-46f9-acf2-cd57c31f1752",
   "metadata": {},
   "outputs": [],
   "source": []
  },
  {
   "cell_type": "markdown",
   "id": "af1ce559-a57a-4afe-b3d1-9c5526333d70",
   "metadata": {},
   "source": [
    "### 8. Comparison to experiment"
   ]
  },
  {
   "cell_type": "code",
   "execution_count": null,
   "id": "88df684e-9506-48c0-9a7c-4f97afd85a26",
   "metadata": {},
   "outputs": [],
   "source": []
  }
 ],
 "metadata": {
  "kernelspec": {
   "display_name": "Python 3 (ipykernel)",
   "language": "python",
   "name": "python3"
  },
  "language_info": {
   "codemirror_mode": {
    "name": "ipython",
    "version": 3
   },
   "file_extension": ".py",
   "mimetype": "text/x-python",
   "name": "python",
   "nbconvert_exporter": "python",
   "pygments_lexer": "ipython3",
   "version": "3.9.13"
  }
 },
 "nbformat": 4,
 "nbformat_minor": 5
}
